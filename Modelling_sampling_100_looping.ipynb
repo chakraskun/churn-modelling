{
  "cells": [
    {
      "cell_type": "markdown",
      "id": "bbf072d6-d798-4de3-92de-561e87f2ac62",
      "metadata": {
        "id": "bbf072d6-d798-4de3-92de-561e87f2ac62"
      },
      "source": [
        "# Import Libraries"
      ]
    },
    {
      "cell_type": "code",
      "execution_count": 1,
      "id": "56438b90-e75b-4920-96bd-318e619dbb7f",
      "metadata": {
        "id": "56438b90-e75b-4920-96bd-318e619dbb7f"
      },
      "outputs": [],
      "source": [
        "import numpy as np\n",
        "import pandas as pd\n",
        "import matplotlib.pyplot as plt\n",
        "import seaborn as sns\n",
        "import warnings\n",
        "from sklearn.preprocessing import StandardScaler,MinMaxScaler\n",
        "from sklearn.model_selection import train_test_split\n",
        "from imblearn import over_sampling\n",
        "\n",
        "warnings.filterwarnings(action='once')\n",
        "warnings.filterwarnings(\"ignore\", category=DeprecationWarning) "
      ]
    },
    {
      "cell_type": "code",
      "execution_count": 2,
      "id": "487556ea-b461-4ea4-9365-4a3e9dbdd560",
      "metadata": {
        "id": "487556ea-b461-4ea4-9365-4a3e9dbdd560"
      },
      "outputs": [],
      "source": [
        "from matplotlib import rcParams\n",
        "\n",
        "rcParams['figure.figsize'] = 12, 4"
      ]
    },
    {
      "cell_type": "markdown",
      "id": "e9d7e49c-8057-477d-a28a-4aafd46a1887",
      "metadata": {
        "id": "e9d7e49c-8057-477d-a28a-4aafd46a1887"
      },
      "source": [
        "# Load Dataset"
      ]
    },
    {
      "cell_type": "code",
      "execution_count": 3,
      "id": "5913f703-069a-4792-8b7b-bca7bc51922b",
      "metadata": {
        "id": "5913f703-069a-4792-8b7b-bca7bc51922b"
      },
      "outputs": [],
      "source": [
        "try:\n",
        "  df = pd.read_csv('Churn_Modelling.csv')\n",
        "except:\n",
        "  df = df = pd.read_csv('https://raw.githubusercontent.com/chakraskun/churn-modelling/main/Churn_Modelling.csv')"
      ]
    },
    {
      "cell_type": "code",
      "execution_count": 4,
      "id": "b48b40e4-1c16-4923-bd53-eca453b512b7",
      "metadata": {
        "colab": {
          "base_uri": "https://localhost:8080/"
        },
        "id": "b48b40e4-1c16-4923-bd53-eca453b512b7",
        "outputId": "edd5f86e-6e91-4937-b69b-4623afe50019"
      },
      "outputs": [
        {
          "name": "stdout",
          "output_type": "stream",
          "text": [
            "<class 'pandas.core.frame.DataFrame'>\n",
            "RangeIndex: 10000 entries, 0 to 9999\n",
            "Data columns (total 14 columns):\n",
            " #   Column           Non-Null Count  Dtype  \n",
            "---  ------           --------------  -----  \n",
            " 0   RowNumber        10000 non-null  int64  \n",
            " 1   CustomerId       10000 non-null  int64  \n",
            " 2   Surname          10000 non-null  object \n",
            " 3   CreditScore      10000 non-null  int64  \n",
            " 4   Geography        10000 non-null  object \n",
            " 5   Gender           10000 non-null  object \n",
            " 6   Age              10000 non-null  int64  \n",
            " 7   Tenure           10000 non-null  int64  \n",
            " 8   Balance          10000 non-null  float64\n",
            " 9   NumOfProducts    10000 non-null  int64  \n",
            " 10  HasCrCard        10000 non-null  int64  \n",
            " 11  IsActiveMember   10000 non-null  int64  \n",
            " 12  EstimatedSalary  10000 non-null  float64\n",
            " 13  Exited           10000 non-null  int64  \n",
            "dtypes: float64(2), int64(9), object(3)\n",
            "memory usage: 1.1+ MB\n"
          ]
        }
      ],
      "source": [
        "#melihat informasi dataset\n",
        "df.info()"
      ]
    },
    {
      "cell_type": "markdown",
      "id": "d8fed34a-5abe-43e8-8153-4835b641201e",
      "metadata": {
        "id": "d8fed34a-5abe-43e8-8153-4835b641201e"
      },
      "source": [
        "Pengamatan:<br>\n",
        "Tidak ada data yang missing, sehingga bisa dilanjutkan proses selanjutnya tanpa harus melakukan proses missing value"
      ]
    },
    {
      "cell_type": "markdown",
      "id": "d121dac1-e1da-462d-902c-513517ad9de2",
      "metadata": {
        "id": "d121dac1-e1da-462d-902c-513517ad9de2"
      },
      "source": [
        "# Statistical Summary"
      ]
    },
    {
      "cell_type": "code",
      "execution_count": 5,
      "id": "8220ad58-7d15-41c7-a8ed-6e6dafab05b4",
      "metadata": {
        "id": "8220ad58-7d15-41c7-a8ed-6e6dafab05b4"
      },
      "outputs": [],
      "source": [
        "numerical = [\n",
        "  # 'RowNumber',\n",
        "  # 'CustomerId',\n",
        "  'CreditScore',\n",
        "  'Age',\n",
        "  'Balance',\n",
        "  'EstimatedSalary',\n",
        "  'NumOfProducts','Tenure',  \n",
        "]\n",
        "categorical = [\n",
        "  'Surname',\n",
        "  'Geography',\n",
        "  'Gender',\n",
        "    'HasCrCard',\n",
        "  'IsActiveMember',\n",
        "\n",
        "]"
      ]
    },
    {
      "cell_type": "code",
      "execution_count": 6,
      "id": "4e36f58b-0874-4501-be3f-a6562d0dc4de",
      "metadata": {
        "colab": {
          "base_uri": "https://localhost:8080/",
          "height": 300
        },
        "id": "4e36f58b-0874-4501-be3f-a6562d0dc4de",
        "outputId": "cc635b3c-6add-495e-b47f-f43c7a034fc7"
      },
      "outputs": [
        {
          "data": {
            "text/html": [
              "<div>\n",
              "<style scoped>\n",
              "    .dataframe tbody tr th:only-of-type {\n",
              "        vertical-align: middle;\n",
              "    }\n",
              "\n",
              "    .dataframe tbody tr th {\n",
              "        vertical-align: top;\n",
              "    }\n",
              "\n",
              "    .dataframe thead th {\n",
              "        text-align: right;\n",
              "    }\n",
              "</style>\n",
              "<table border=\"1\" class=\"dataframe\">\n",
              "  <thead>\n",
              "    <tr style=\"text-align: right;\">\n",
              "      <th></th>\n",
              "      <th>CreditScore</th>\n",
              "      <th>Age</th>\n",
              "      <th>Balance</th>\n",
              "      <th>EstimatedSalary</th>\n",
              "      <th>NumOfProducts</th>\n",
              "      <th>Tenure</th>\n",
              "    </tr>\n",
              "  </thead>\n",
              "  <tbody>\n",
              "    <tr>\n",
              "      <th>count</th>\n",
              "      <td>10000.000000</td>\n",
              "      <td>10000.000000</td>\n",
              "      <td>10000.000000</td>\n",
              "      <td>10000.000000</td>\n",
              "      <td>10000.000000</td>\n",
              "      <td>10000.000000</td>\n",
              "    </tr>\n",
              "    <tr>\n",
              "      <th>mean</th>\n",
              "      <td>650.528800</td>\n",
              "      <td>38.921800</td>\n",
              "      <td>76485.889288</td>\n",
              "      <td>100090.239881</td>\n",
              "      <td>1.530200</td>\n",
              "      <td>5.012800</td>\n",
              "    </tr>\n",
              "    <tr>\n",
              "      <th>std</th>\n",
              "      <td>96.653299</td>\n",
              "      <td>10.487806</td>\n",
              "      <td>62397.405202</td>\n",
              "      <td>57510.492818</td>\n",
              "      <td>0.581654</td>\n",
              "      <td>2.892174</td>\n",
              "    </tr>\n",
              "    <tr>\n",
              "      <th>min</th>\n",
              "      <td>350.000000</td>\n",
              "      <td>18.000000</td>\n",
              "      <td>0.000000</td>\n",
              "      <td>11.580000</td>\n",
              "      <td>1.000000</td>\n",
              "      <td>0.000000</td>\n",
              "    </tr>\n",
              "    <tr>\n",
              "      <th>25%</th>\n",
              "      <td>584.000000</td>\n",
              "      <td>32.000000</td>\n",
              "      <td>0.000000</td>\n",
              "      <td>51002.110000</td>\n",
              "      <td>1.000000</td>\n",
              "      <td>3.000000</td>\n",
              "    </tr>\n",
              "    <tr>\n",
              "      <th>50%</th>\n",
              "      <td>652.000000</td>\n",
              "      <td>37.000000</td>\n",
              "      <td>97198.540000</td>\n",
              "      <td>100193.915000</td>\n",
              "      <td>1.000000</td>\n",
              "      <td>5.000000</td>\n",
              "    </tr>\n",
              "    <tr>\n",
              "      <th>75%</th>\n",
              "      <td>718.000000</td>\n",
              "      <td>44.000000</td>\n",
              "      <td>127644.240000</td>\n",
              "      <td>149388.247500</td>\n",
              "      <td>2.000000</td>\n",
              "      <td>7.000000</td>\n",
              "    </tr>\n",
              "    <tr>\n",
              "      <th>max</th>\n",
              "      <td>850.000000</td>\n",
              "      <td>92.000000</td>\n",
              "      <td>250898.090000</td>\n",
              "      <td>199992.480000</td>\n",
              "      <td>4.000000</td>\n",
              "      <td>10.000000</td>\n",
              "    </tr>\n",
              "  </tbody>\n",
              "</table>\n",
              "</div>"
            ],
            "text/plain": [
              "        CreditScore           Age        Balance  EstimatedSalary  \\\n",
              "count  10000.000000  10000.000000   10000.000000     10000.000000   \n",
              "mean     650.528800     38.921800   76485.889288    100090.239881   \n",
              "std       96.653299     10.487806   62397.405202     57510.492818   \n",
              "min      350.000000     18.000000       0.000000        11.580000   \n",
              "25%      584.000000     32.000000       0.000000     51002.110000   \n",
              "50%      652.000000     37.000000   97198.540000    100193.915000   \n",
              "75%      718.000000     44.000000  127644.240000    149388.247500   \n",
              "max      850.000000     92.000000  250898.090000    199992.480000   \n",
              "\n",
              "       NumOfProducts        Tenure  \n",
              "count   10000.000000  10000.000000  \n",
              "mean        1.530200      5.012800  \n",
              "std         0.581654      2.892174  \n",
              "min         1.000000      0.000000  \n",
              "25%         1.000000      3.000000  \n",
              "50%         1.000000      5.000000  \n",
              "75%         2.000000      7.000000  \n",
              "max         4.000000     10.000000  "
            ]
          },
          "execution_count": 6,
          "metadata": {},
          "output_type": "execute_result"
        }
      ],
      "source": [
        "df[numerical].describe()"
      ]
    },
    {
      "cell_type": "markdown",
      "id": "27ca8f26-376f-4212-a9e6-9f614fbfd59f",
      "metadata": {
        "id": "27ca8f26-376f-4212-a9e6-9f614fbfd59f"
      },
      "source": [
        "Pengataman dari Fitur Numerical:\n",
        "- Kolom `CreditScore`, `Age`, `EstimatedSalary`,`Tenure` sudah cukup simetrik distribusinya (mean dan median tidak terlalu jauh)\n",
        "- Kolom `Balance` skewed"
      ]
    },
    {
      "cell_type": "code",
      "execution_count": 7,
      "id": "71b00688-cd2b-4856-84dc-09cefb51d61c",
      "metadata": {
        "colab": {
          "base_uri": "https://localhost:8080/",
          "height": 175
        },
        "id": "71b00688-cd2b-4856-84dc-09cefb51d61c",
        "outputId": "2e9805cd-9e31-4a7f-9c2d-004a4195cb13"
      },
      "outputs": [
        {
          "data": {
            "text/html": [
              "<div>\n",
              "<style scoped>\n",
              "    .dataframe tbody tr th:only-of-type {\n",
              "        vertical-align: middle;\n",
              "    }\n",
              "\n",
              "    .dataframe tbody tr th {\n",
              "        vertical-align: top;\n",
              "    }\n",
              "\n",
              "    .dataframe thead th {\n",
              "        text-align: right;\n",
              "    }\n",
              "</style>\n",
              "<table border=\"1\" class=\"dataframe\">\n",
              "  <thead>\n",
              "    <tr style=\"text-align: right;\">\n",
              "      <th></th>\n",
              "      <th>Surname</th>\n",
              "      <th>Geography</th>\n",
              "      <th>Gender</th>\n",
              "    </tr>\n",
              "  </thead>\n",
              "  <tbody>\n",
              "    <tr>\n",
              "      <th>count</th>\n",
              "      <td>10000</td>\n",
              "      <td>10000</td>\n",
              "      <td>10000</td>\n",
              "    </tr>\n",
              "    <tr>\n",
              "      <th>unique</th>\n",
              "      <td>2932</td>\n",
              "      <td>3</td>\n",
              "      <td>2</td>\n",
              "    </tr>\n",
              "    <tr>\n",
              "      <th>top</th>\n",
              "      <td>Smith</td>\n",
              "      <td>France</td>\n",
              "      <td>Male</td>\n",
              "    </tr>\n",
              "    <tr>\n",
              "      <th>freq</th>\n",
              "      <td>32</td>\n",
              "      <td>5014</td>\n",
              "      <td>5457</td>\n",
              "    </tr>\n",
              "  </tbody>\n",
              "</table>\n",
              "</div>"
            ],
            "text/plain": [
              "       Surname Geography Gender\n",
              "count    10000     10000  10000\n",
              "unique    2932         3      2\n",
              "top      Smith    France   Male\n",
              "freq        32      5014   5457"
            ]
          },
          "execution_count": 7,
          "metadata": {},
          "output_type": "execute_result"
        }
      ],
      "source": [
        "df[categorical].describe(include=[object])"
      ]
    },
    {
      "cell_type": "markdown",
      "id": "f986d6dc-4be4-46bb-a075-1a5d38f80c1d",
      "metadata": {
        "id": "f986d6dc-4be4-46bb-a075-1a5d38f80c1d"
      },
      "source": [
        "# Drop Column"
      ]
    },
    {
      "cell_type": "code",
      "execution_count": 8,
      "id": "7f359c78-a5cd-4069-93de-e5fdd48fc130",
      "metadata": {
        "id": "7f359c78-a5cd-4069-93de-e5fdd48fc130"
      },
      "outputs": [],
      "source": [
        "df = df.drop(columns=['RowNumber','CustomerId','Surname'])"
      ]
    },
    {
      "cell_type": "markdown",
      "id": "16ca9654-66ab-44d5-9e8e-dd9c0bc069bc",
      "metadata": {
        "id": "16ca9654-66ab-44d5-9e8e-dd9c0bc069bc"
      },
      "source": [
        "Kolom `RowNumber`,`CustomerId`,dan `Surname` didrop dikarenakan membunyai banyak value unique"
      ]
    },
    {
      "cell_type": "markdown",
      "id": "e66322e0-a781-4119-a86f-13b9719d756b",
      "metadata": {
        "id": "e66322e0-a781-4119-a86f-13b9719d756b"
      },
      "source": [
        "# Outliers Handling"
      ]
    },
    {
      "cell_type": "code",
      "execution_count": 9,
      "id": "a26be2c5-9395-408f-8aed-21a11c020b42",
      "metadata": {
        "colab": {
          "base_uri": "https://localhost:8080/",
          "height": 297
        },
        "id": "a26be2c5-9395-408f-8aed-21a11c020b42",
        "outputId": "ed7717e6-a2ef-485b-c9e5-d8a7e2936acf"
      },
      "outputs": [
        {
          "data": {
            "image/png": "[encoded data removed]",
            "text/plain": [
              "<Figure size 864x288 with 6 Axes>"
            ]
          },
          "metadata": {
            "needs_background": "light"
          },
          "output_type": "display_data"
        }
      ],
      "source": [
        "for i in range(0, len(numerical)):\n",
        "    plt.subplot(1, len(numerical), i+1)\n",
        "    sns.boxplot(y=df[numerical[i]])\n",
        "    plt.tight_layout()"
      ]
    },
    {
      "cell_type": "markdown",
      "id": "4a8143ae-53bb-4e74-9bac-7f307819fd61",
      "metadata": {
        "id": "4a8143ae-53bb-4e74-9bac-7f307819fd61"
      },
      "source": [
        "Feature `age` dan `numofproducts` tidak akan dibuang untuk data outliers dikarenakan secara konseptual hal tersebut masih memungkinkan, sehingga pada dataset ini akan melakukan handling pada feature `CreditScore`. Handling outliers akan menggunakan pendekatan konservatif yaitu Z-Score"
      ]
    },
    {
      "cell_type": "code",
      "execution_count": 10,
      "id": "ef6d08d2-6308-42f7-92cb-cad0f27a4073",
      "metadata": {
        "id": "ef6d08d2-6308-42f7-92cb-cad0f27a4073"
      },
      "outputs": [],
      "source": [
        "from scipy import stats"
      ]
    },
    {
      "cell_type": "code",
      "execution_count": 11,
      "id": "f827a65c-6e36-4288-aac8-4bcfb223d387",
      "metadata": {
        "colab": {
          "base_uri": "https://localhost:8080/"
        },
        "id": "f827a65c-6e36-4288-aac8-4bcfb223d387",
        "outputId": "6448a91e-848a-4de0-d9df-81036974234b"
      },
      "outputs": [
        {
          "name": "stdout",
          "output_type": "stream",
          "text": [
            "Jumlah baris sebelum memfilter outlier: 10000\n",
            "Jumlah baris setelah memfilter outlier: 9992\n"
          ]
        }
      ],
      "source": [
        "print(f'Jumlah baris sebelum memfilter outlier: {len(df)}')\n",
        "zscore = np.abs(stats.zscore(df['CreditScore'])) # hitung absolute z-scorenya\n",
        "filtered_entries = (zscore < 3)  # keep yang kurang dari 3 absolute z-scorenya\n",
        "df = df[filtered_entries]\n",
        "print(f'Jumlah baris setelah memfilter outlier: {len(df)}')"
      ]
    },
    {
      "cell_type": "markdown",
      "id": "7163ae1f-c215-48dc-b803-c2162145e869",
      "metadata": {
        "id": "7163ae1f-c215-48dc-b803-c2162145e869"
      },
      "source": [
        "# Split data into train and test"
      ]
    },
    {
      "cell_type": "code",
      "execution_count": 12,
      "id": "08aaef8b-42e3-45b9-9526-2e6a997b4c03",
      "metadata": {
        "id": "08aaef8b-42e3-45b9-9526-2e6a997b4c03"
      },
      "outputs": [],
      "source": [
        "df_train,df_test = train_test_split(df,test_size=0.2, random_state=42) #Splitting the data into Train and Test"
      ]
    },
    {
      "cell_type": "markdown",
      "id": "03671960-4f04-496a-8107-98ed5c2b5f60",
      "metadata": {
        "id": "03671960-4f04-496a-8107-98ed5c2b5f60"
      },
      "source": [
        "# Feature Scaling in Training Data"
      ]
    },
    {
      "cell_type": "code",
      "execution_count": 13,
      "id": "2e65cdea-559b-4925-b4b5-48a8c3a927d4",
      "metadata": {
        "id": "2e65cdea-559b-4925-b4b5-48a8c3a927d4"
      },
      "outputs": [
        {
          "name": "stderr",
          "output_type": "stream",
          "text": [
            "<ipython-input-13-525ddc7bc460>:4: SettingWithCopyWarning: \n",
            "A value is trying to be set on a copy of a slice from a DataFrame.\n",
            "Try using .loc[row_indexer,col_indexer] = value instead\n",
            "\n",
            "See the caveats in the documentation: https://pandas.pydata.org/pandas-docs/stable/user_guide/indexing.html#returning-a-view-versus-a-copy\n",
            "  i['LogAge'] = np.log(i['Age'])\n"
          ]
        }
      ],
      "source": [
        "#input code below\n",
        "handled_dataset = [df_train, df_test]\n",
        "for i in handled_dataset:\n",
        "  i['LogAge'] = np.log(i['Age'])\n",
        "\n"
      ]
    },
    {
      "cell_type": "code",
      "execution_count": 14,
      "id": "ce5c85f8-4f88-4497-b458-b9a0b87bf495",
      "metadata": {
        "id": "ce5c85f8-4f88-4497-b458-b9a0b87bf495"
      },
      "outputs": [
        {
          "name": "stderr",
          "output_type": "stream",
          "text": [
            "<ipython-input-14-92a6fefe9e32>:2: SettingWithCopyWarning: \n",
            "A value is trying to be set on a copy of a slice from a DataFrame.\n",
            "Try using .loc[row_indexer,col_indexer] = value instead\n",
            "\n",
            "See the caveats in the documentation: https://pandas.pydata.org/pandas-docs/stable/user_guide/indexing.html#returning-a-view-versus-a-copy\n",
            "  i['LogAgeNorm'] = MinMaxScaler().fit_transform(i['LogAge'].values.reshape(len(i), 1))\n",
            "<ipython-input-14-92a6fefe9e32>:3: SettingWithCopyWarning: \n",
            "A value is trying to be set on a copy of a slice from a DataFrame.\n",
            "Try using .loc[row_indexer,col_indexer] = value instead\n",
            "\n",
            "See the caveats in the documentation: https://pandas.pydata.org/pandas-docs/stable/user_guide/indexing.html#returning-a-view-versus-a-copy\n",
            "  i['BalanceStd'] = StandardScaler().fit_transform(i['Balance'].values.reshape(len(i), 1))\n",
            "<ipython-input-14-92a6fefe9e32>:4: SettingWithCopyWarning: \n",
            "A value is trying to be set on a copy of a slice from a DataFrame.\n",
            "Try using .loc[row_indexer,col_indexer] = value instead\n",
            "\n",
            "See the caveats in the documentation: https://pandas.pydata.org/pandas-docs/stable/user_guide/indexing.html#returning-a-view-versus-a-copy\n",
            "  i['BalanceNorm'] = MinMaxScaler().fit_transform(i['BalanceStd'].values.reshape(len(i), 1))\n",
            "<ipython-input-14-92a6fefe9e32>:5: SettingWithCopyWarning: \n",
            "A value is trying to be set on a copy of a slice from a DataFrame.\n",
            "Try using .loc[row_indexer,col_indexer] = value instead\n",
            "\n",
            "See the caveats in the documentation: https://pandas.pydata.org/pandas-docs/stable/user_guide/indexing.html#returning-a-view-versus-a-copy\n",
            "  i['EstimatedSalaryStd'] = StandardScaler().fit_transform(i['EstimatedSalary'].values.reshape(len(i), 1))\n",
            "<ipython-input-14-92a6fefe9e32>:6: SettingWithCopyWarning: \n",
            "A value is trying to be set on a copy of a slice from a DataFrame.\n",
            "Try using .loc[row_indexer,col_indexer] = value instead\n",
            "\n",
            "See the caveats in the documentation: https://pandas.pydata.org/pandas-docs/stable/user_guide/indexing.html#returning-a-view-versus-a-copy\n",
            "  i['EstimatedSalaryNorm'] = MinMaxScaler().fit_transform(i['EstimatedSalaryStd'].values.reshape(len(i), 1))\n",
            "<ipython-input-14-92a6fefe9e32>:7: SettingWithCopyWarning: \n",
            "A value is trying to be set on a copy of a slice from a DataFrame.\n",
            "Try using .loc[row_indexer,col_indexer] = value instead\n",
            "\n",
            "See the caveats in the documentation: https://pandas.pydata.org/pandas-docs/stable/user_guide/indexing.html#returning-a-view-versus-a-copy\n",
            "  i['TenureNorm'] = MinMaxScaler().fit_transform(i['Tenure'].values.reshape(len(i), 1))\n",
            "<ipython-input-14-92a6fefe9e32>:8: SettingWithCopyWarning: \n",
            "A value is trying to be set on a copy of a slice from a DataFrame.\n",
            "Try using .loc[row_indexer,col_indexer] = value instead\n",
            "\n",
            "See the caveats in the documentation: https://pandas.pydata.org/pandas-docs/stable/user_guide/indexing.html#returning-a-view-versus-a-copy\n",
            "  i['NumOfProductsNorm'] = MinMaxScaler().fit_transform(i['NumOfProducts'].values.reshape(len(i), 1))\n",
            "<ipython-input-14-92a6fefe9e32>:9: SettingWithCopyWarning: \n",
            "A value is trying to be set on a copy of a slice from a DataFrame.\n",
            "Try using .loc[row_indexer,col_indexer] = value instead\n",
            "\n",
            "See the caveats in the documentation: https://pandas.pydata.org/pandas-docs/stable/user_guide/indexing.html#returning-a-view-versus-a-copy\n",
            "  i['CreditScoreNorm'] = MinMaxScaler().fit_transform(i['CreditScore'].values.reshape(len(i), 1))\n",
            "<ipython-input-14-92a6fefe9e32>:2: SettingWithCopyWarning: \n",
            "A value is trying to be set on a copy of a slice from a DataFrame.\n",
            "Try using .loc[row_indexer,col_indexer] = value instead\n",
            "\n",
            "See the caveats in the documentation: https://pandas.pydata.org/pandas-docs/stable/user_guide/indexing.html#returning-a-view-versus-a-copy\n",
            "  i['LogAgeNorm'] = MinMaxScaler().fit_transform(i['LogAge'].values.reshape(len(i), 1))\n",
            "<ipython-input-14-92a6fefe9e32>:3: SettingWithCopyWarning: \n",
            "A value is trying to be set on a copy of a slice from a DataFrame.\n",
            "Try using .loc[row_indexer,col_indexer] = value instead\n",
            "\n",
            "See the caveats in the documentation: https://pandas.pydata.org/pandas-docs/stable/user_guide/indexing.html#returning-a-view-versus-a-copy\n",
            "  i['BalanceStd'] = StandardScaler().fit_transform(i['Balance'].values.reshape(len(i), 1))\n",
            "<ipython-input-14-92a6fefe9e32>:4: SettingWithCopyWarning: \n",
            "A value is trying to be set on a copy of a slice from a DataFrame.\n",
            "Try using .loc[row_indexer,col_indexer] = value instead\n",
            "\n",
            "See the caveats in the documentation: https://pandas.pydata.org/pandas-docs/stable/user_guide/indexing.html#returning-a-view-versus-a-copy\n",
            "  i['BalanceNorm'] = MinMaxScaler().fit_transform(i['BalanceStd'].values.reshape(len(i), 1))\n",
            "<ipython-input-14-92a6fefe9e32>:5: SettingWithCopyWarning: \n",
            "A value is trying to be set on a copy of a slice from a DataFrame.\n",
            "Try using .loc[row_indexer,col_indexer] = value instead\n",
            "\n",
            "See the caveats in the documentation: https://pandas.pydata.org/pandas-docs/stable/user_guide/indexing.html#returning-a-view-versus-a-copy\n",
            "  i['EstimatedSalaryStd'] = StandardScaler().fit_transform(i['EstimatedSalary'].values.reshape(len(i), 1))\n",
            "<ipython-input-14-92a6fefe9e32>:6: SettingWithCopyWarning: \n",
            "A value is trying to be set on a copy of a slice from a DataFrame.\n",
            "Try using .loc[row_indexer,col_indexer] = value instead\n",
            "\n",
            "See the caveats in the documentation: https://pandas.pydata.org/pandas-docs/stable/user_guide/indexing.html#returning-a-view-versus-a-copy\n",
            "  i['EstimatedSalaryNorm'] = MinMaxScaler().fit_transform(i['EstimatedSalaryStd'].values.reshape(len(i), 1))\n",
            "<ipython-input-14-92a6fefe9e32>:7: SettingWithCopyWarning: \n",
            "A value is trying to be set on a copy of a slice from a DataFrame.\n",
            "Try using .loc[row_indexer,col_indexer] = value instead\n",
            "\n",
            "See the caveats in the documentation: https://pandas.pydata.org/pandas-docs/stable/user_guide/indexing.html#returning-a-view-versus-a-copy\n",
            "  i['TenureNorm'] = MinMaxScaler().fit_transform(i['Tenure'].values.reshape(len(i), 1))\n",
            "<ipython-input-14-92a6fefe9e32>:8: SettingWithCopyWarning: \n",
            "A value is trying to be set on a copy of a slice from a DataFrame.\n",
            "Try using .loc[row_indexer,col_indexer] = value instead\n",
            "\n",
            "See the caveats in the documentation: https://pandas.pydata.org/pandas-docs/stable/user_guide/indexing.html#returning-a-view-versus-a-copy\n",
            "  i['NumOfProductsNorm'] = MinMaxScaler().fit_transform(i['NumOfProducts'].values.reshape(len(i), 1))\n",
            "<ipython-input-14-92a6fefe9e32>:9: SettingWithCopyWarning: \n",
            "A value is trying to be set on a copy of a slice from a DataFrame.\n",
            "Try using .loc[row_indexer,col_indexer] = value instead\n",
            "\n",
            "See the caveats in the documentation: https://pandas.pydata.org/pandas-docs/stable/user_guide/indexing.html#returning-a-view-versus-a-copy\n",
            "  i['CreditScoreNorm'] = MinMaxScaler().fit_transform(i['CreditScore'].values.reshape(len(i), 1))\n"
          ]
        }
      ],
      "source": [
        "for i in handled_dataset:\n",
        "  i['LogAgeNorm'] = MinMaxScaler().fit_transform(i['LogAge'].values.reshape(len(i), 1))\n",
        "  i['BalanceStd'] = StandardScaler().fit_transform(i['Balance'].values.reshape(len(i), 1))\n",
        "  i['BalanceNorm'] = MinMaxScaler().fit_transform(i['BalanceStd'].values.reshape(len(i), 1))\n",
        "  i['EstimatedSalaryStd'] = StandardScaler().fit_transform(i['EstimatedSalary'].values.reshape(len(i), 1))\n",
        "  i['EstimatedSalaryNorm'] = MinMaxScaler().fit_transform(i['EstimatedSalaryStd'].values.reshape(len(i), 1))\n",
        "  i['TenureNorm'] = MinMaxScaler().fit_transform(i['Tenure'].values.reshape(len(i), 1))\n",
        "  i['NumOfProductsNorm'] = MinMaxScaler().fit_transform(i['NumOfProducts'].values.reshape(len(i), 1))\n",
        "  i['CreditScoreNorm'] = MinMaxScaler().fit_transform(i['CreditScore'].values.reshape(len(i), 1))\n"
      ]
    },
    {
      "cell_type": "markdown",
      "id": "379ce23e-aa67-474b-aac7-8e8b34a66e05",
      "metadata": {
        "id": "379ce23e-aa67-474b-aac7-8e8b34a66e05"
      },
      "source": [
        "# Feature Encoding in Training and Test Data"
      ]
    },
    {
      "cell_type": "markdown",
      "id": "6dd36495-9590-4b3c-a05f-ddc0693ec1a9",
      "metadata": {
        "id": "6dd36495-9590-4b3c-a05f-ddc0693ec1a9"
      },
      "source": [
        "kolom `gender` akan dilakukan label encoding, sementara `geography` akan menggunakan one-hot coding"
      ]
    },
    {
      "cell_type": "code",
      "execution_count": 15,
      "id": "6b8ad594-fcf1-4519-82ae-f91689aaa402",
      "metadata": {
        "colab": {
          "base_uri": "https://localhost:8080/"
        },
        "id": "6b8ad594-fcf1-4519-82ae-f91689aaa402",
        "outputId": "d29ee88e-d308-4ab2-d919-3345ed3256ce"
      },
      "outputs": [
        {
          "data": {
            "text/plain": [
              "(1999, 20)"
            ]
          },
          "execution_count": 15,
          "metadata": {},
          "output_type": "execute_result"
        }
      ],
      "source": [
        "df_test.shape"
      ]
    },
    {
      "cell_type": "markdown",
      "id": "8a8a4f4d-7cd9-4488-9ce5-9fd5a359f2f9",
      "metadata": {
        "id": "8a8a4f4d-7cd9-4488-9ce5-9fd5a359f2f9"
      },
      "source": [
        "#### Label Encoding "
      ]
    },
    {
      "cell_type": "code",
      "execution_count": 16,
      "id": "83dcacfa-482d-472a-bd36-0197b7cd4a90",
      "metadata": {
        "id": "83dcacfa-482d-472a-bd36-0197b7cd4a90"
      },
      "outputs": [
        {
          "name": "stderr",
          "output_type": "stream",
          "text": [
            "<ipython-input-16-9ad53f36acd0>:8: SettingWithCopyWarning: \n",
            "A value is trying to be set on a copy of a slice from a DataFrame.\n",
            "Try using .loc[row_indexer,col_indexer] = value instead\n",
            "\n",
            "See the caveats in the documentation: https://pandas.pydata.org/pandas-docs/stable/user_guide/indexing.html#returning-a-view-versus-a-copy\n",
            "  i['Gender'] = i['Gender'].map(mapping_gender)\n"
          ]
        }
      ],
      "source": [
        "# input code below\n",
        "\n",
        "mapping_gender = {\n",
        "    'Female' : 0,\n",
        "    'Male' : 1\n",
        "  }\n",
        "for i in handled_dataset:\n",
        "  i['Gender'] = i['Gender'].map(mapping_gender)"
      ]
    },
    {
      "cell_type": "markdown",
      "id": "f8af1e98-5f9d-48cd-8b36-4e5aa6bd0929",
      "metadata": {
        "id": "f8af1e98-5f9d-48cd-8b36-4e5aa6bd0929"
      },
      "source": [
        "#### One-hot coding"
      ]
    },
    {
      "cell_type": "code",
      "execution_count": 17,
      "id": "45b1f506-5d4b-4a37-8de0-f2f459abd1c7",
      "metadata": {
        "id": "45b1f506-5d4b-4a37-8de0-f2f459abd1c7"
      },
      "outputs": [],
      "source": [
        "# input code below\n",
        "for i in handled_dataset:\n",
        "  one_hot_encoding = pd.get_dummies(i['Geography'], prefix='geo')\n",
        "  if i.shape[0] >7000:\n",
        "    df_train = df_train.join(one_hot_encoding)\n",
        "  if i.shape[0] < 2000:\n",
        "    df_test = df_test.join(one_hot_encoding)\n"
      ]
    },
    {
      "cell_type": "markdown",
      "id": "79d8f14c-938e-411e-8fe1-e5194c19c35e",
      "metadata": {
        "id": "79d8f14c-938e-411e-8fe1-e5194c19c35e"
      },
      "source": [
        "# Drop Column Outdated"
      ]
    },
    {
      "cell_type": "code",
      "execution_count": 18,
      "id": "3f8527b7-7421-4acc-a7aa-d71355787095",
      "metadata": {
        "id": "3f8527b7-7421-4acc-a7aa-d71355787095"
      },
      "outputs": [],
      "source": [
        "handled_dataset = [df_train, df_test]\n",
        "for i in handled_dataset:\n",
        "  i.drop(columns=['Geography','Age', 'Balance', 'EstimatedSalary', 'EstimatedSalaryStd', \n",
        "                  'BalanceStd', 'Tenure', 'NumOfProducts', 'LogAge', 'CreditScore'], inplace=True)"
      ]
    },
    {
      "cell_type": "markdown",
      "id": "c4b2889d-2a0d-4acc-b9a8-b4cf8488bd10",
      "metadata": {
        "id": "c4b2889d-2a0d-4acc-b9a8-b4cf8488bd10"
      },
      "source": [
        "# Handling Imbalance"
      ]
    },
    {
      "cell_type": "code",
      "execution_count": 19,
      "id": "33f512ea-c927-4970-8829-d61eaf56ee19",
      "metadata": {
        "colab": {
          "base_uri": "https://localhost:8080/"
        },
        "id": "33f512ea-c927-4970-8829-d61eaf56ee19",
        "outputId": "bd3181f0-43bb-4bb4-9be9-2e6cc763faab"
      },
      "outputs": [
        {
          "name": "stdout",
          "output_type": "stream",
          "text": [
            "BEFORE\n",
            "0    6360\n",
            "1    1633\n",
            "dtype: int64\n",
            "----------------------\n",
            "AFTER\n",
            "0    6360\n",
            "1    6360\n",
            "dtype: int64\n"
          ]
        }
      ],
      "source": [
        "X = df_train[[col for col in df_train.columns if (str(df_train[col].dtype) != 'object') and col != 'Exited']]\n",
        "y = df_train['Exited'].values\n",
        "X_over_SMOTE, y_over_SMOTE = over_sampling.SMOTE(sampling_strategy=1, random_state=42).fit_resample(X, y)\n",
        "\n",
        "print('BEFORE')\n",
        "print(pd.Series(y).value_counts())\n",
        "print('----------------------')\n",
        "print('AFTER')\n",
        "print(pd.Series(y_over_SMOTE).value_counts())"
      ]
    },
    {
      "cell_type": "markdown",
      "id": "ebbac36d-b860-471c-8544-7985bf49984a",
      "metadata": {
        "id": "ebbac36d-b860-471c-8544-7985bf49984a"
      },
      "source": [
        " "
      ]
    },
    {
      "cell_type": "markdown",
      "id": "c0f36f7a-7ec9-4875-9c0b-0439b43d15e4",
      "metadata": {
        "id": "c0f36f7a-7ec9-4875-9c0b-0439b43d15e4"
      },
      "source": [
        "# Modelling"
      ]
    },
    {
      "cell_type": "code",
      "execution_count": 20,
      "id": "262f7119-b7a4-4d35-b777-c6ec4c19638d",
      "metadata": {
        "id": "262f7119-b7a4-4d35-b777-c6ec4c19638d"
      },
      "outputs": [],
      "source": [
        "from sklearn.metrics import accuracy_score, recall_score, precision_score, auc, roc_auc_score, roc_curve\n",
        "from sklearn.metrics import confusion_matrix\n",
        "import scikitplot as skplt\n",
        "from sklearn.model_selection import RandomizedSearchCV, GridSearchCV\n",
        "from sklearn.linear_model import LogisticRegression\n",
        "from sklearn.tree import DecisionTreeClassifier\n",
        "from xgboost import XGBClassifier\n",
        "from sklearn.neighbors import KNeighborsClassifier\n",
        "from sklearn.ensemble import RandomForestClassifier, AdaBoostClassifier, GradientBoostingClassifier\n",
        "from sklearn.svm import SVC\n",
        "from lightgbm import LGBMClassifier\n",
        "\n",
        "from sklearn.model_selection import cross_val_score, cross_val_predict\n",
        "from sklearn.model_selection import learning_curve\n",
        "\n",
        "comparison_dict, comparison_test_dict = {}, {}\n"
      ]
    },
    {
      "cell_type": "code",
      "execution_count": 21,
      "id": "96a165ef-dc60-4f7a-bff9-4e379320bd4a",
      "metadata": {
        "id": "96a165ef-dc60-4f7a-bff9-4e379320bd4a"
      },
      "outputs": [],
      "source": [
        "X_train = X_over_SMOTE\n",
        "y_train = y_over_SMOTE\n",
        "X_test = df_test[[col for col in df_test.columns if (str(df_test[col].dtype) != 'object') and col != 'Exited']]\n",
        "y_test = df_test['Exited'].values"
      ]
    },
    {
      "cell_type": "code",
      "execution_count": 22,
      "id": "53d90c74-e871-40ae-82b0-b168b2062ef6",
      "metadata": {
        "id": "53d90c74-e871-40ae-82b0-b168b2062ef6"
      },
      "outputs": [],
      "source": [
        "from sklearn.metrics import accuracy_score, precision_score, recall_score, f1_score\n",
        "from sklearn.metrics import roc_curve, auc\n",
        "\n",
        "def eval_classification(model, pred, xtrain, ytrain, xtest, ytest):\n",
        "    print(\"Accuracy (Test on train Set): %.2f\" % accuracy_score(ytest, pred))\n",
        "    print(\"Precision (Test on train Set): %.2f\" % precision_score(ytest, pred))\n",
        "    print(\"Recall (Test on train Set): %.2f\" % recall_score(ytest, pred))\n",
        "    print(\"F1-Score (Test on train Set): %.2f\" % f1_score(ytest, pred))\n",
        "    \n",
        "    fpr, tpr, thresholds = roc_curve(ytest, pred, pos_label=1) # pos_label: label yang kita anggap positive\n",
        "    print(\"AUC: %.2f\" % auc(fpr, tpr))\n",
        "\n",
        "def show_feature_importance(model):\n",
        "    feat_importances = pd.Series(model.feature_importances_, index=X.columns)\n",
        "    ax = feat_importances.nlargest(25).plot(kind='barh', figsize=(10, 8))\n",
        "    ax.invert_yaxis()\n",
        "\n",
        "    plt.xlabel('score')\n",
        "    plt.ylabel('feature')\n",
        "    plt.title('feature importance score')\n",
        "\n",
        "def show_best_hyperparameter(model, hyperparameters):\n",
        "    for key, value in hyperparameters.items() :\n",
        "        print('Best '+key+':', model.get_params()[key])"
      ]
    },
    {
      "cell_type": "code",
      "execution_count": 23,
      "id": "4c440417-859c-467c-b2f5-df10f4907f12",
      "metadata": {
        "id": "4c440417-859c-467c-b2f5-df10f4907f12"
      },
      "outputs": [],
      "source": [
        "def plot_confusion_matrix(cm, ax):\n",
        "    '''Plot a confusion matrix in the specified axes object.'''\n",
        "    sns.heatmap(data=cm,\n",
        "                annot=True,\n",
        "                cmap='Blues',\n",
        "                annot_kws={'fontsize': 30},\n",
        "                ax=ax)\n",
        "\n",
        "    ax.set_xlabel('Predicted Label')\n",
        "    ax.set_xticks([0.5, 1.5])\n",
        "    ax.set_xticklabels(['Retained', 'Churned'])\n",
        "\n",
        "    ax.set_ylabel('True Label')\n",
        "    ax.set_yticks([0.25, 1.25])\n",
        "    ax.set_yticklabels(['Retained', 'Churned']);\n",
        "\n",
        "\n",
        "def plot_feature_importance(classifier, classifier_name, color, ax):\n",
        "    '''Plot the importance of features for a classifier as a barplot.'''\n",
        "    importances = pd.DataFrame({'Feature': X_train.columns,\n",
        "                                'Importance': np.round(classifier.best_estimator_.feature_importances_, 3)})\n",
        "\n",
        "    importances = importances.sort_values('Importance', ascending=True).set_index('Feature')\n",
        "\n",
        "    importances.plot.barh(color=color,\n",
        "                          edgecolor='firebrick',\n",
        "                          legend=False,\n",
        "                          ax=ax)\n",
        "    ax.set_title(classifier_name)\n",
        "    ax.set_xlabel('Importance');\n",
        "\n",
        "def plot_learning_curve(estimator,\n",
        "                    X,\n",
        "                    y,\n",
        "                    ax,\n",
        "                    cv=None,\n",
        "                    train_sizes=np.linspace(0.1, 1.0, 5)):\n",
        "  '''Plot the learning curves for an estimator in the specified axes object.'''\n",
        "  train_sizes, train_scores, test_scores = learning_curve(\n",
        "      estimator,\n",
        "      X,\n",
        "      y,\n",
        "      cv=cv,\n",
        "      n_jobs=-1,\n",
        "      train_sizes=train_sizes,\n",
        "      scoring='accuracy')\n",
        "\n",
        "  train_scores_mean = np.mean(train_scores, axis=1)\n",
        "  train_scores_std = np.std(train_scores, axis=1)\n",
        "  test_scores_mean = np.mean(test_scores, axis=1)\n",
        "  test_scores_std = np.std(test_scores, axis=1)\n",
        "\n",
        "  ax.fill_between(train_sizes,\n",
        "                  train_scores_mean - train_scores_std,\n",
        "                  train_scores_mean + train_scores_std,\n",
        "                  alpha=0.1,\n",
        "                  color='dodgerblue')\n",
        "  ax.fill_between(train_sizes,\n",
        "                  test_scores_mean - test_scores_std,\n",
        "                  test_scores_mean + test_scores_std,\n",
        "                  alpha=0.1,\n",
        "                  color='darkorange')\n",
        "\n",
        "  ax.plot(train_sizes,\n",
        "          train_scores_mean,\n",
        "          color='dodgerblue',\n",
        "          marker='o',\n",
        "          linestyle='-',\n",
        "          label='Training Score')\n",
        "  ax.plot(train_sizes,\n",
        "          test_scores_mean,\n",
        "          color='darkorange',\n",
        "          marker='o',\n",
        "          linestyle='-',\n",
        "          label='Cross-validation Score')\n",
        "\n",
        "  ax.set_xlabel('Training Examples')\n",
        "  ax.set_ylabel('Score')\n",
        "  ax.legend(loc='best', fontsize=14);\n",
        "\n",
        "def classifier_performance(classifier, classifier_name, classifier_name_abv):\n",
        "    '''Display the overall performance of a classifier with this template.'''\n",
        "    print('\\n', classifier_name)\n",
        "    print('-------------------------------')\n",
        "    print('   Best Score ({}): '.format('recall') + str(np.round(classifier.best_score_, 3)))\n",
        "    print('   Best Parameters: ')\n",
        "    for key, value in classifier.best_params_.items():\n",
        "        print('      {}: {}'.format(key, value))\n",
        "\n",
        "    y_pred_pp = cross_val_predict(estimator=classifier.best_estimator_,\n",
        "                                  X=X_train,\n",
        "                                  y=y_train,\n",
        "                                  cv=5,\n",
        "                                  method='predict_proba')[:, 1]\n",
        "    y_pred = y_pred_pp.round()\n",
        "\n",
        "    cm = confusion_matrix(y_train, y_pred, normalize='true')\n",
        "\n",
        "    # fpr, tpr, _ = roc_curve(y_train, y_pred_pp)\n",
        "    # comparison_dict[classifier_name_abv] = [\n",
        "    #     accuracy_score(y_train, y_pred),\n",
        "    #     precision_score(y_train, y_pred),\n",
        "    #     recall_score(y_train, y_pred),\n",
        "    #     roc_auc_score(y_train, y_pred_pp), fpr, tpr\n",
        "    # ]\n",
        "\n",
        "    fig, (ax1) = plt.subplots(1, 1, figsize=(6, 5))\n",
        "\n",
        "    plot_confusion_matrix(cm, ax1)\n",
        "    # plot_learning_curve(classifier.best_estimator_, X_train, y_train, ax2)\n",
        "\n",
        "    plt.tight_layout();"
      ]
    },
    {
      "cell_type": "code",
      "execution_count": 24,
      "id": "35aab1d1-95ce-4aed-b513-9202c8bf2331",
      "metadata": {
        "id": "35aab1d1-95ce-4aed-b513-9202c8bf2331"
      },
      "outputs": [],
      "source": [
        "models = []\n",
        "models.append((\n",
        "  'Logistic Regression',\n",
        "  LogisticRegression(random_state = 42),\n",
        "  {\n",
        "    'max_iter': [100],\n",
        "    'penalty': ['l1', 'l2'],\n",
        "    'C': [0.0001, 0.001, 0.01, 0.1, 1, 10],\n",
        "    'solver': ['lbfgs', 'liblinear']\n",
        "  }\n",
        "))\n",
        "models.append((\n",
        "  'Decision Tree',\n",
        "  DecisionTreeClassifier(random_state = 42),\n",
        "  {\n",
        "    'max_depth': [int(x) for x in np.linspace(1, 300, num = 80)], \n",
        "    'min_samples_split': [2, 5, 10, 100,200,500,1000], \n",
        "    'min_samples_leaf': [1, 2, 4, 10, 20, 50,100],\n",
        "    'max_features': ['auto', 'sqrt']\n",
        "  }\n",
        "))\n",
        "models.append((\n",
        "  'Random Forest',\n",
        "  RandomForestClassifier(random_state = 42),\n",
        "  {\n",
        "    'n_estimators': [100],\n",
        "    'criterion': ['entropy', 'gini'],\n",
        "    'bootstrap': [True, False],\n",
        "    'max_depth': [6],\n",
        "    'max_features': ['auto', 'sqrt'],\n",
        "    'min_samples_leaf': [2, 3, 5],\n",
        "    'min_samples_split': [2, 3, 5]\n",
        "  }\n",
        "))\n",
        "models.append((\n",
        "  'Gradient Boosting',\n",
        "  GradientBoostingClassifier(random_state = 42),\n",
        "  {\n",
        "    'n_estimators': [600],\n",
        "    'subsample': [0.66, 0.75],\n",
        "    'learning_rate': [0.001, 0.01],\n",
        "    'max_depth': [3],  # default=3\n",
        "    'min_samples_split': [5, 7],\n",
        "    'min_samples_leaf': [3, 5],\n",
        "    'max_features': ['auto', 'log2', None],\n",
        "    'n_iter_no_change': [20],\n",
        "    'validation_fraction': [0.2],\n",
        "    'tol': [0.01]\n",
        "  }\n",
        "))\n",
        "models.append((\n",
        "  \"LightGBM\",\n",
        "  LGBMClassifier(random_state = 42),\n",
        "  {\n",
        "    'max_depth': [5],\n",
        "    'num_leaves': [5, 10],\n",
        "    'learning_rate': [0.001, 0.01],\n",
        "    'n_estimators': [200],\n",
        "    'feature_fraction': [0.5],\n",
        "    'min_child_samples': [5, 10],\n",
        "    'reg_alpha': [0.1, 0.5],\n",
        "    'reg_lambda': [0.1, 0.5]\n",
        "  }\n",
        "))\n",
        "models.append((\n",
        "  \"XGBoost\",\n",
        "  XGBClassifier(random_state=42,eval_metric='logloss',use_label_encoder=False),\n",
        "  {\n",
        "    'n_estimators': [50],\n",
        "    'learning_rate': [0.001, 0.01],\n",
        "    'max_depth': [3, 4],  # default=6\n",
        "    'reg_alpha': [1, 2],\n",
        "    'reg_lambda': [1, 2],\n",
        "    'subsample': [0.5, 0.75],\n",
        "    'colsample_bytree': [0.50, 0.75],\n",
        "    'gamma': [0.1, 0.5, 1],\n",
        "    'min_child_weight': [1]\n",
        "  }\n",
        "))\n",
        "models.append((\n",
        "  'AdaBoost',\n",
        "  AdaBoostClassifier(random_state = 42),\n",
        "  {\n",
        "    'n_estimators': [int(x) for x in np.linspace(start = 100, stop = 2000, num = 20)], # Jumlah iterasi\n",
        "    'learning_rate': [float(x) for x in np.linspace(start = 0.001, stop = 0.1, num = 20)],  \n",
        "    'algorithm': ['SAMME', 'SAMME.R']\n",
        "  }\n",
        "))"
      ]
    },
    {
      "cell_type": "code",
      "execution_count": 25,
      "id": "7ac6f781",
      "metadata": {},
      "outputs": [
        {
          "name": "stdout",
          "output_type": "stream",
          "text": [
            "\n",
            " Logistic Regression\n",
            "-------------------------------\n",
            "   Best Score (recall): 0.725\n",
            "   Best Parameters: \n",
            "      C: 0.01\n",
            "      max_iter: 100\n",
            "      penalty: l1\n",
            "      solver: liblinear\n",
            "\n",
            " Decision Tree\n",
            "-------------------------------\n",
            "   Best Score (recall): 0.843\n",
            "   Best Parameters: \n",
            "      max_depth: 27\n",
            "      max_features: auto\n",
            "      min_samples_leaf: 1\n",
            "      min_samples_split: 2\n",
            "\n",
            " Random Forest\n",
            "-------------------------------\n",
            "   Best Score (recall): 0.817\n",
            "   Best Parameters: \n",
            "      bootstrap: True\n",
            "      criterion: gini\n",
            "      max_depth: 6\n",
            "      max_features: auto\n",
            "      min_samples_leaf: 3\n",
            "      min_samples_split: 2\n",
            "      n_estimators: 100\n",
            "\n",
            " Gradient Boosting\n",
            "-------------------------------\n",
            "   Best Score (recall): 0.801\n",
            "   Best Parameters: \n",
            "      learning_rate: 0.01\n",
            "      max_depth: 3\n",
            "      max_features: auto\n",
            "      min_samples_leaf: 3\n",
            "      min_samples_split: 5\n",
            "      n_estimators: 600\n",
            "      n_iter_no_change: 20\n",
            "      subsample: 0.75\n",
            "      tol: 0.01\n",
            "      validation_fraction: 0.2\n",
            "[LightGBM] [Warning] feature_fraction is set=0.5, colsample_bytree=1.0 will be ignored. Current value: feature_fraction=0.5\n",
            "\n",
            " LightGBM\n",
            "-------------------------------\n",
            "   Best Score (recall): 0.815\n",
            "   Best Parameters: \n",
            "      feature_fraction: 0.5\n",
            "      learning_rate: 0.01\n",
            "      max_depth: 5\n",
            "      min_child_samples: 10\n",
            "      n_estimators: 200\n",
            "      num_leaves: 10\n",
            "      reg_alpha: 0.5\n",
            "      reg_lambda: 0.1\n",
            "[LightGBM] [Warning] feature_fraction is set=0.5, colsample_bytree=1.0 will be ignored. Current value: feature_fraction=0.5\n",
            "[LightGBM] [Warning] feature_fraction is set=0.5, colsample_bytree=1.0 will be ignored. Current value: feature_fraction=0.5\n",
            "[LightGBM] [Warning] feature_fraction is set=0.5, colsample_bytree=1.0 will be ignored. Current value: feature_fraction=0.5\n",
            "[LightGBM] [Warning] feature_fraction is set=0.5, colsample_bytree=1.0 will be ignored. Current value: feature_fraction=0.5\n",
            "[LightGBM] [Warning] feature_fraction is set=0.5, colsample_bytree=1.0 will be ignored. Current value: feature_fraction=0.5\n"
          ]
        }
      ],
      "source": [
        "result_modelling = {}\n",
        "model_name = []\n",
        "train_score = []\n",
        "test_score = []\n",
        "recall_score_list = []\n",
        "score_acc_list = []\n",
        "precision_score_list = []\n",
        "\n",
        "best_tuned = []\n",
        "train_score_tuned = []\n",
        "test_score_tuned = []\n",
        "recall_score_list_tuned = []\n",
        "score_acc_list_tuned = []\n",
        "precision_score_list_tuned = []\n",
        "\n",
        "for name, model, hyperparameter in models:\n",
        "    # if name != 'Logistic Regression':\n",
        "    #   continue\n",
        "    model.fit(X_train, y_train)\n",
        "    y_pred = model.predict(X_test)\n",
        "    model_name.append(name)\n",
        "    score_acc_list.append(round(accuracy_score(y_test, y_pred),2))\n",
        "    precision_score_list.append(round(precision_score(y_test, y_pred),2))\n",
        "    recall_score_list.append(round(recall_score(y_test, y_pred),2))\n",
        "    train_score.append(model.score(X_train, y_train))\n",
        "    test_score.append(model.score(X_test, y_test))\n",
        "    #tuned\n",
        "    if name in ['XGBoost', 'AdaBoost']:\n",
        "      model_tuned = RandomizedSearchCV(model, hyperparameter, cv=5, n_iter=20, scoring='recall', n_jobs=-1)\n",
        "    else:\n",
        "      model_tuned = GridSearchCV(model, hyperparameter, cv=5, n_jobs=-1, scoring='recall', verbose=False)\n",
        "    best = model_tuned.fit(X_train, y_train)\n",
        "    best_tuned.append(best)\n",
        "    y_pred_tuned = best.predict(X_test)\n",
        "    train_score_tuned.append(best.score(X_train, y_train))\n",
        "    test_score_tuned.append(best.score(X_test, y_test))\n",
        "    score_acc_list_tuned.append(round(accuracy_score(y_test, y_pred_tuned),2))\n",
        "    precision_score_list_tuned.append(round(precision_score(y_test, y_pred_tuned),2))\n",
        "    recall_score_list_tuned.append(round(recall_score(y_test, y_pred_tuned),2))\n",
        "\n",
        "    classifier_performance(best, name, name)\n"
      ]
    },
    {
      "cell_type": "code",
      "execution_count": null,
      "id": "39a2f8aa",
      "metadata": {},
      "outputs": [],
      "source": [
        "result_modelling['model_name'] = model_name\n",
        "result_modelling['recall_score'] = recall_score_list\n",
        "result_modelling['accuracy_score'] = score_acc_list\n",
        "result_modelling['precision_score'] = precision_score_list\n",
        "result_modelling['train_score'] = train_score\n",
        "result_modelling['test_score'] = test_score\n",
        "result_modelling['recall_score_tuned'] = recall_score_list_tuned\n",
        "result_modelling['accuracy_score_tuned'] = score_acc_list_tuned\n",
        "result_modelling['precision_score_tuned'] = precision_score_list_tuned\n",
        "result_modelling['train_score_tuned'] = train_score_tuned\n",
        "result_modelling['test_score_tuned'] = test_score_tuned\n",
        "\n",
        "df_result = pd.DataFrame(result_modelling)"
      ]
    },
    {
      "cell_type": "code",
      "execution_count": null,
      "id": "404f766c",
      "metadata": {},
      "outputs": [
        {
          "data": {
            "text/html": [
              "<div>\n",
              "<style scoped>\n",
              "    .dataframe tbody tr th:only-of-type {\n",
              "        vertical-align: middle;\n",
              "    }\n",
              "\n",
              "    .dataframe tbody tr th {\n",
              "        vertical-align: top;\n",
              "    }\n",
              "\n",
              "    .dataframe thead th {\n",
              "        text-align: right;\n",
              "    }\n",
              "</style>\n",
              "<table border=\"1\" class=\"dataframe\">\n",
              "  <thead>\n",
              "    <tr style=\"text-align: right;\">\n",
              "      <th></th>\n",
              "      <th>model_name</th>\n",
              "      <th>recall_score</th>\n",
              "      <th>accuracy_score</th>\n",
              "      <th>precision_score</th>\n",
              "      <th>train_score</th>\n",
              "      <th>test_score</th>\n",
              "      <th>recall_score_tuned</th>\n",
              "      <th>accuracy_score_tuned</th>\n",
              "      <th>precision_score_tuned</th>\n",
              "      <th>train_score_tuned</th>\n",
              "      <th>test_score_tuned</th>\n",
              "    </tr>\n",
              "  </thead>\n",
              "  <tbody>\n",
              "    <tr>\n",
              "      <th>4</th>\n",
              "      <td>LightGBM</td>\n",
              "      <td>0.74</td>\n",
              "      <td>0.77</td>\n",
              "      <td>0.46</td>\n",
              "      <td>0.934198</td>\n",
              "      <td>0.774887</td>\n",
              "      <td>0.72</td>\n",
              "      <td>0.77</td>\n",
              "      <td>0.45</td>\n",
              "      <td>0.829088</td>\n",
              "      <td>0.724747</td>\n",
              "    </tr>\n",
              "    <tr>\n",
              "      <th>2</th>\n",
              "      <td>Random Forest</td>\n",
              "      <td>0.63</td>\n",
              "      <td>0.84</td>\n",
              "      <td>0.58</td>\n",
              "      <td>1.000000</td>\n",
              "      <td>0.837419</td>\n",
              "      <td>0.71</td>\n",
              "      <td>0.79</td>\n",
              "      <td>0.48</td>\n",
              "      <td>0.832704</td>\n",
              "      <td>0.712121</td>\n",
              "    </tr>\n",
              "    <tr>\n",
              "      <th>5</th>\n",
              "      <td>XGBoost</td>\n",
              "      <td>0.76</td>\n",
              "      <td>0.76</td>\n",
              "      <td>0.44</td>\n",
              "      <td>0.965723</td>\n",
              "      <td>0.764382</td>\n",
              "      <td>0.71</td>\n",
              "      <td>0.78</td>\n",
              "      <td>0.47</td>\n",
              "      <td>0.813050</td>\n",
              "      <td>0.709596</td>\n",
              "    </tr>\n",
              "    <tr>\n",
              "      <th>3</th>\n",
              "      <td>Gradient Boosting</td>\n",
              "      <td>0.71</td>\n",
              "      <td>0.80</td>\n",
              "      <td>0.49</td>\n",
              "      <td>0.867689</td>\n",
              "      <td>0.798399</td>\n",
              "      <td>0.70</td>\n",
              "      <td>0.79</td>\n",
              "      <td>0.48</td>\n",
              "      <td>0.811164</td>\n",
              "      <td>0.704545</td>\n",
              "    </tr>\n",
              "    <tr>\n",
              "      <th>6</th>\n",
              "      <td>AdaBoost</td>\n",
              "      <td>0.69</td>\n",
              "      <td>0.79</td>\n",
              "      <td>0.48</td>\n",
              "      <td>0.835456</td>\n",
              "      <td>0.790395</td>\n",
              "      <td>0.70</td>\n",
              "      <td>0.79</td>\n",
              "      <td>0.48</td>\n",
              "      <td>0.815881</td>\n",
              "      <td>0.699495</td>\n",
              "    </tr>\n",
              "    <tr>\n",
              "      <th>0</th>\n",
              "      <td>Logistic Regression</td>\n",
              "      <td>0.66</td>\n",
              "      <td>0.72</td>\n",
              "      <td>0.38</td>\n",
              "      <td>0.716745</td>\n",
              "      <td>0.721361</td>\n",
              "      <td>0.67</td>\n",
              "      <td>0.70</td>\n",
              "      <td>0.36</td>\n",
              "      <td>0.727044</td>\n",
              "      <td>0.671717</td>\n",
              "    </tr>\n",
              "    <tr>\n",
              "      <th>1</th>\n",
              "      <td>Decision Tree</td>\n",
              "      <td>0.64</td>\n",
              "      <td>0.73</td>\n",
              "      <td>0.39</td>\n",
              "      <td>1.000000</td>\n",
              "      <td>0.730365</td>\n",
              "      <td>0.58</td>\n",
              "      <td>0.78</td>\n",
              "      <td>0.46</td>\n",
              "      <td>1.000000</td>\n",
              "      <td>0.583333</td>\n",
              "    </tr>\n",
              "  </tbody>\n",
              "</table>\n",
              "</div>"
            ],
            "text/plain": [
              "            model_name  recall_score  accuracy_score  precision_score  \\\n",
              "4             LightGBM          0.74            0.77             0.46   \n",
              "2        Random Forest          0.63            0.84             0.58   \n",
              "5              XGBoost          0.76            0.76             0.44   \n",
              "3    Gradient Boosting          0.71            0.80             0.49   \n",
              "6             AdaBoost          0.69            0.79             0.48   \n",
              "0  Logistic Regression          0.66            0.72             0.38   \n",
              "1        Decision Tree          0.64            0.73             0.39   \n",
              "\n",
              "   train_score  test_score  recall_score_tuned  accuracy_score_tuned  \\\n",
              "4     0.934198    0.774887                0.72                  0.77   \n",
              "2     1.000000    0.837419                0.71                  0.79   \n",
              "5     0.965723    0.764382                0.71                  0.78   \n",
              "3     0.867689    0.798399                0.70                  0.79   \n",
              "6     0.835456    0.790395                0.70                  0.79   \n",
              "0     0.716745    0.721361                0.67                  0.70   \n",
              "1     1.000000    0.730365                0.58                  0.78   \n",
              "\n",
              "   precision_score_tuned  train_score_tuned  test_score_tuned  \n",
              "4                   0.45           0.829088          0.724747  \n",
              "2                   0.48           0.832704          0.712121  \n",
              "5                   0.47           0.813050          0.709596  \n",
              "3                   0.48           0.811164          0.704545  \n",
              "6                   0.48           0.815881          0.699495  \n",
              "0                   0.36           0.727044          0.671717  \n",
              "1                   0.46           1.000000          0.583333  "
            ]
          },
          "execution_count": 159,
          "metadata": {},
          "output_type": "execute_result"
        }
      ],
      "source": [
        "df_result.sort_values(by=['recall_score_tuned'], ascending=False, inplace=True)\n",
        "df_result"
      ]
    },
    {
      "cell_type": "code",
      "execution_count": null,
      "id": "28d153af",
      "metadata": {},
      "outputs": [],
      "source": [
        "# for i in range(len(model_name)):\n",
        "#   classifier_performance(best_tuned[i], model_name[i], 'GBC')"
      ]
    }
  ],
  "metadata": {
    "colab": {
      "collapsed_sections": [
        "8a8a4f4d-7cd9-4488-9ce5-9fd5a359f2f9",
        "f8af1e98-5f9d-48cd-8b36-4e5aa6bd0929"
      ],
      "name": "Modelling.ipynb",
      "provenance": [],
      "toc_visible": true
    },
    "kernelspec": {
      "display_name": "Python 3 (ipykernel)",
      "language": "python",
      "name": "python3"
    },
    "language_info": {
      "codemirror_mode": {
        "name": "ipython",
        "version": 3
      },
      "file_extension": ".py",
      "mimetype": "text/x-python",
      "name": "python",
      "nbconvert_exporter": "python",
      "pygments_lexer": "ipython3",
      "version": "3.8.8"
    }
  },
  "nbformat": 4,
  "nbformat_minor": 5
}
