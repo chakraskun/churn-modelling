{
  "cells": [
    {
      "cell_type": "markdown",
      "id": "bbf072d6-d798-4de3-92de-561e87f2ac62",
      "metadata": {
        "id": "bbf072d6-d798-4de3-92de-561e87f2ac62"
      },
      "source": [
        "# Import Libraries"
      ]
    },
    {
      "cell_type": "code",
      "execution_count": null,
      "id": "56438b90-e75b-4920-96bd-318e619dbb7f",
      "metadata": {
        "id": "56438b90-e75b-4920-96bd-318e619dbb7f"
      },
      "outputs": [],
      "source": [
        "import numpy as np\n",
        "import pandas as pd\n",
        "import matplotlib.pyplot as plt\n",
        "import seaborn as sns\n",
        "import warnings\n",
        "from sklearn.preprocessing import StandardScaler,MinMaxScaler\n",
        "from sklearn.model_selection import train_test_split\n",
        "from imblearn import over_sampling\n",
        "\n",
        "warnings.filterwarnings('ignore')\n"
      ]
    },
    {
      "cell_type": "code",
      "execution_count": null,
      "id": "487556ea-b461-4ea4-9365-4a3e9dbdd560",
      "metadata": {
        "id": "487556ea-b461-4ea4-9365-4a3e9dbdd560"
      },
      "outputs": [],
      "source": [
        "from matplotlib import rcParams\n",
        "\n",
        "rcParams['figure.figsize'] = 12, 4"
      ]
    },
    {
      "cell_type": "markdown",
      "id": "e9d7e49c-8057-477d-a28a-4aafd46a1887",
      "metadata": {
        "id": "e9d7e49c-8057-477d-a28a-4aafd46a1887"
      },
      "source": [
        "# Load Dataset"
      ]
    },
    {
      "cell_type": "code",
      "execution_count": null,
      "id": "5913f703-069a-4792-8b7b-bca7bc51922b",
      "metadata": {
        "id": "5913f703-069a-4792-8b7b-bca7bc51922b"
      },
      "outputs": [],
      "source": [
        "try:\n",
        "  df = pd.read_csv('Churn_Modelling.csv')\n",
        "except:\n",
        "  df = df = pd.read_csv('https://raw.githubusercontent.com/chakraskun/churn-modelling/main/Churn_Modelling.csv')"
      ]
    },
    {
      "cell_type": "code",
      "execution_count": null,
      "id": "b48b40e4-1c16-4923-bd53-eca453b512b7",
      "metadata": {
        "colab": {
          "base_uri": "https://localhost:8080/"
        },
        "id": "b48b40e4-1c16-4923-bd53-eca453b512b7",
        "outputId": "edd5f86e-6e91-4937-b69b-4623afe50019"
      },
      "outputs": [
        {
          "output_type": "stream",
          "name": "stdout",
          "text": [
            "<class 'pandas.core.frame.DataFrame'>\n",
            "RangeIndex: 10000 entries, 0 to 9999\n",
            "Data columns (total 14 columns):\n",
            " #   Column           Non-Null Count  Dtype  \n",
            "---  ------           --------------  -----  \n",
            " 0   RowNumber        10000 non-null  int64  \n",
            " 1   CustomerId       10000 non-null  int64  \n",
            " 2   Surname          10000 non-null  object \n",
            " 3   CreditScore      10000 non-null  int64  \n",
            " 4   Geography        10000 non-null  object \n",
            " 5   Gender           10000 non-null  object \n",
            " 6   Age              10000 non-null  int64  \n",
            " 7   Tenure           10000 non-null  int64  \n",
            " 8   Balance          10000 non-null  float64\n",
            " 9   NumOfProducts    10000 non-null  int64  \n",
            " 10  HasCrCard        10000 non-null  int64  \n",
            " 11  IsActiveMember   10000 non-null  int64  \n",
            " 12  EstimatedSalary  10000 non-null  float64\n",
            " 13  Exited           10000 non-null  int64  \n",
            "dtypes: float64(2), int64(9), object(3)\n",
            "memory usage: 1.1+ MB\n"
          ]
        }
      ],
      "source": [
        "#melihat informasi dataset\n",
        "df.info()"
      ]
    },
    {
      "cell_type": "markdown",
      "id": "d8fed34a-5abe-43e8-8153-4835b641201e",
      "metadata": {
        "id": "d8fed34a-5abe-43e8-8153-4835b641201e"
      },
      "source": [
        "Pengamatan:<br>\n",
        "Tidak ada data yang missing, sehingga bisa dilanjutkan proses selanjutnya tanpa harus melakukan proses missing value"
      ]
    },
    {
      "cell_type": "markdown",
      "id": "d121dac1-e1da-462d-902c-513517ad9de2",
      "metadata": {
        "id": "d121dac1-e1da-462d-902c-513517ad9de2"
      },
      "source": [
        "# Statistical Summary"
      ]
    },
    {
      "cell_type": "code",
      "execution_count": null,
      "id": "8220ad58-7d15-41c7-a8ed-6e6dafab05b4",
      "metadata": {
        "id": "8220ad58-7d15-41c7-a8ed-6e6dafab05b4"
      },
      "outputs": [],
      "source": [
        "numerical = [\n",
        "  # 'RowNumber',\n",
        "  # 'CustomerId',\n",
        "  'CreditScore',\n",
        "  'Age',\n",
        "  'Balance',\n",
        "  'EstimatedSalary',\n",
        "  'NumOfProducts','Tenure',  \n",
        "]\n",
        "categorical = [\n",
        "  'Surname',\n",
        "  'Geography',\n",
        "  'Gender',\n",
        "    'HasCrCard',\n",
        "  'IsActiveMember',\n",
        "\n",
        "]"
      ]
    },
    {
      "cell_type": "code",
      "execution_count": null,
      "id": "4e36f58b-0874-4501-be3f-a6562d0dc4de",
      "metadata": {
        "colab": {
          "base_uri": "https://localhost:8080/",
          "height": 300
        },
        "id": "4e36f58b-0874-4501-be3f-a6562d0dc4de",
        "outputId": "cc635b3c-6add-495e-b47f-f43c7a034fc7"
      },
      "outputs": [
        {
          "output_type": "execute_result",
          "data": {
            "text/plain": [
              "        CreditScore           Age        Balance  EstimatedSalary  \\\n",
              "count  10000.000000  10000.000000   10000.000000     10000.000000   \n",
              "mean     650.528800     38.921800   76485.889288    100090.239881   \n",
              "std       96.653299     10.487806   62397.405202     57510.492818   \n",
              "min      350.000000     18.000000       0.000000        11.580000   \n",
              "25%      584.000000     32.000000       0.000000     51002.110000   \n",
              "50%      652.000000     37.000000   97198.540000    100193.915000   \n",
              "75%      718.000000     44.000000  127644.240000    149388.247500   \n",
              "max      850.000000     92.000000  250898.090000    199992.480000   \n",
              "\n",
              "       NumOfProducts        Tenure  \n",
              "count   10000.000000  10000.000000  \n",
              "mean        1.530200      5.012800  \n",
              "std         0.581654      2.892174  \n",
              "min         1.000000      0.000000  \n",
              "25%         1.000000      3.000000  \n",
              "50%         1.000000      5.000000  \n",
              "75%         2.000000      7.000000  \n",
              "max         4.000000     10.000000  "
            ],
            "text/html": [
              "<div>\n",
              "<style scoped>\n",
              "    .dataframe tbody tr th:only-of-type {\n",
              "        vertical-align: middle;\n",
              "    }\n",
              "\n",
              "    .dataframe tbody tr th {\n",
              "        vertical-align: top;\n",
              "    }\n",
              "\n",
              "    .dataframe thead th {\n",
              "        text-align: right;\n",
              "    }\n",
              "</style>\n",
              "<table border=\"1\" class=\"dataframe\">\n",
              "  <thead>\n",
              "    <tr style=\"text-align: right;\">\n",
              "      <th></th>\n",
              "      <th>CreditScore</th>\n",
              "      <th>Age</th>\n",
              "      <th>Balance</th>\n",
              "      <th>EstimatedSalary</th>\n",
              "      <th>NumOfProducts</th>\n",
              "      <th>Tenure</th>\n",
              "    </tr>\n",
              "  </thead>\n",
              "  <tbody>\n",
              "    <tr>\n",
              "      <th>count</th>\n",
              "      <td>10000.000000</td>\n",
              "      <td>10000.000000</td>\n",
              "      <td>10000.000000</td>\n",
              "      <td>10000.000000</td>\n",
              "      <td>10000.000000</td>\n",
              "      <td>10000.000000</td>\n",
              "    </tr>\n",
              "    <tr>\n",
              "      <th>mean</th>\n",
              "      <td>650.528800</td>\n",
              "      <td>38.921800</td>\n",
              "      <td>76485.889288</td>\n",
              "      <td>100090.239881</td>\n",
              "      <td>1.530200</td>\n",
              "      <td>5.012800</td>\n",
              "    </tr>\n",
              "    <tr>\n",
              "      <th>std</th>\n",
              "      <td>96.653299</td>\n",
              "      <td>10.487806</td>\n",
              "      <td>62397.405202</td>\n",
              "      <td>57510.492818</td>\n",
              "      <td>0.581654</td>\n",
              "      <td>2.892174</td>\n",
              "    </tr>\n",
              "    <tr>\n",
              "      <th>min</th>\n",
              "      <td>350.000000</td>\n",
              "      <td>18.000000</td>\n",
              "      <td>0.000000</td>\n",
              "      <td>11.580000</td>\n",
              "      <td>1.000000</td>\n",
              "      <td>0.000000</td>\n",
              "    </tr>\n",
              "    <tr>\n",
              "      <th>25%</th>\n",
              "      <td>584.000000</td>\n",
              "      <td>32.000000</td>\n",
              "      <td>0.000000</td>\n",
              "      <td>51002.110000</td>\n",
              "      <td>1.000000</td>\n",
              "      <td>3.000000</td>\n",
              "    </tr>\n",
              "    <tr>\n",
              "      <th>50%</th>\n",
              "      <td>652.000000</td>\n",
              "      <td>37.000000</td>\n",
              "      <td>97198.540000</td>\n",
              "      <td>100193.915000</td>\n",
              "      <td>1.000000</td>\n",
              "      <td>5.000000</td>\n",
              "    </tr>\n",
              "    <tr>\n",
              "      <th>75%</th>\n",
              "      <td>718.000000</td>\n",
              "      <td>44.000000</td>\n",
              "      <td>127644.240000</td>\n",
              "      <td>149388.247500</td>\n",
              "      <td>2.000000</td>\n",
              "      <td>7.000000</td>\n",
              "    </tr>\n",
              "    <tr>\n",
              "      <th>max</th>\n",
              "      <td>850.000000</td>\n",
              "      <td>92.000000</td>\n",
              "      <td>250898.090000</td>\n",
              "      <td>199992.480000</td>\n",
              "      <td>4.000000</td>\n",
              "      <td>10.000000</td>\n",
              "    </tr>\n",
              "  </tbody>\n",
              "</table>\n",
              "</div>"
            ]
          },
          "metadata": {},
          "execution_count": 36
        }
      ],
      "source": [
        "df[numerical].describe()"
      ]
    },
    {
      "cell_type": "markdown",
      "id": "27ca8f26-376f-4212-a9e6-9f614fbfd59f",
      "metadata": {
        "id": "27ca8f26-376f-4212-a9e6-9f614fbfd59f"
      },
      "source": [
        "Pengataman dari Fitur Numerical:\n",
        "- Kolom `CreditScore`, `Age`, `EstimatedSalary`,`Tenure` sudah cukup simetrik distribusinya (mean dan median tidak terlalu jauh)\n",
        "- Kolom `Balance` skewed"
      ]
    },
    {
      "cell_type": "code",
      "execution_count": null,
      "id": "71b00688-cd2b-4856-84dc-09cefb51d61c",
      "metadata": {
        "colab": {
          "base_uri": "https://localhost:8080/",
          "height": 175
        },
        "id": "71b00688-cd2b-4856-84dc-09cefb51d61c",
        "outputId": "2e9805cd-9e31-4a7f-9c2d-004a4195cb13"
      },
      "outputs": [
        {
          "output_type": "execute_result",
          "data": {
            "text/plain": [
              "       Surname Geography Gender\n",
              "count    10000     10000  10000\n",
              "unique    2932         3      2\n",
              "top      Smith    France   Male\n",
              "freq        32      5014   5457"
            ],
            "text/html": [
              "<div>\n",
              "<style scoped>\n",
              "    .dataframe tbody tr th:only-of-type {\n",
              "        vertical-align: middle;\n",
              "    }\n",
              "\n",
              "    .dataframe tbody tr th {\n",
              "        vertical-align: top;\n",
              "    }\n",
              "\n",
              "    .dataframe thead th {\n",
              "        text-align: right;\n",
              "    }\n",
              "</style>\n",
              "<table border=\"1\" class=\"dataframe\">\n",
              "  <thead>\n",
              "    <tr style=\"text-align: right;\">\n",
              "      <th></th>\n",
              "      <th>Surname</th>\n",
              "      <th>Geography</th>\n",
              "      <th>Gender</th>\n",
              "    </tr>\n",
              "  </thead>\n",
              "  <tbody>\n",
              "    <tr>\n",
              "      <th>count</th>\n",
              "      <td>10000</td>\n",
              "      <td>10000</td>\n",
              "      <td>10000</td>\n",
              "    </tr>\n",
              "    <tr>\n",
              "      <th>unique</th>\n",
              "      <td>2932</td>\n",
              "      <td>3</td>\n",
              "      <td>2</td>\n",
              "    </tr>\n",
              "    <tr>\n",
              "      <th>top</th>\n",
              "      <td>Smith</td>\n",
              "      <td>France</td>\n",
              "      <td>Male</td>\n",
              "    </tr>\n",
              "    <tr>\n",
              "      <th>freq</th>\n",
              "      <td>32</td>\n",
              "      <td>5014</td>\n",
              "      <td>5457</td>\n",
              "    </tr>\n",
              "  </tbody>\n",
              "</table>\n",
              "</div>"
            ]
          },
          "metadata": {},
          "execution_count": 37
        }
      ],
      "source": [
        "df[categorical].describe(include=[object])"
      ]
    },
    {
      "cell_type": "markdown",
      "id": "f986d6dc-4be4-46bb-a075-1a5d38f80c1d",
      "metadata": {
        "id": "f986d6dc-4be4-46bb-a075-1a5d38f80c1d"
      },
      "source": [
        "# Drop Column"
      ]
    },
    {
      "cell_type": "code",
      "execution_count": null,
      "id": "7f359c78-a5cd-4069-93de-e5fdd48fc130",
      "metadata": {
        "id": "7f359c78-a5cd-4069-93de-e5fdd48fc130"
      },
      "outputs": [],
      "source": [
        "df = df.drop(columns=['RowNumber','CustomerId','Surname'])"
      ]
    },
    {
      "cell_type": "markdown",
      "id": "16ca9654-66ab-44d5-9e8e-dd9c0bc069bc",
      "metadata": {
        "id": "16ca9654-66ab-44d5-9e8e-dd9c0bc069bc"
      },
      "source": [
        "Kolom `RowNumber`,`CustomerId`,dan `Surname` didrop dikarenakan membunyai banyak value unique"
      ]
    },
    {
      "cell_type": "markdown",
      "id": "e66322e0-a781-4119-a86f-13b9719d756b",
      "metadata": {
        "id": "e66322e0-a781-4119-a86f-13b9719d756b"
      },
      "source": [
        "# Outliers Handling"
      ]
    },
    {
      "cell_type": "code",
      "execution_count": null,
      "id": "a26be2c5-9395-408f-8aed-21a11c020b42",
      "metadata": {
        "colab": {
          "base_uri": "https://localhost:8080/",
          "height": 297
        },
        "id": "a26be2c5-9395-408f-8aed-21a11c020b42",
        "outputId": "ed7717e6-a2ef-485b-c9e5-d8a7e2936acf"
      },
      "outputs": [
        {
          "output_type": "display_data",
          "data": {
            "text/plain": [
              "<Figure size 864x288 with 6 Axes>"
            ],
            "image/png": "[encoded data removed]"
          },
          "metadata": {
            "needs_background": "light"
          }
        }
      ],
      "source": [
        "for i in range(0, len(numerical)):\n",
        "    plt.subplot(1, len(numerical), i+1)\n",
        "    sns.boxplot(y=df[numerical[i]])\n",
        "    plt.tight_layout()"
      ]
    },
    {
      "cell_type": "markdown",
      "id": "4a8143ae-53bb-4e74-9bac-7f307819fd61",
      "metadata": {
        "id": "4a8143ae-53bb-4e74-9bac-7f307819fd61"
      },
      "source": [
        "Feature `age` dan `numofproducts` tidak akan dibuang untuk data outliers dikarenakan secara konseptual hal tersebut masih memungkinkan, sehingga pada dataset ini akan melakukan handling pada feature `CreditScore`. Handling outliers akan menggunakan pendekatan konservatif yaitu Z-Score"
      ]
    },
    {
      "cell_type": "code",
      "execution_count": null,
      "id": "ef6d08d2-6308-42f7-92cb-cad0f27a4073",
      "metadata": {
        "id": "ef6d08d2-6308-42f7-92cb-cad0f27a4073"
      },
      "outputs": [],
      "source": [
        "from scipy import stats"
      ]
    },
    {
      "cell_type": "code",
      "execution_count": null,
      "id": "f827a65c-6e36-4288-aac8-4bcfb223d387",
      "metadata": {
        "colab": {
          "base_uri": "https://localhost:8080/"
        },
        "id": "f827a65c-6e36-4288-aac8-4bcfb223d387",
        "outputId": "6448a91e-848a-4de0-d9df-81036974234b"
      },
      "outputs": [
        {
          "output_type": "stream",
          "name": "stdout",
          "text": [
            "Jumlah baris sebelum memfilter outlier: 10000\n",
            "Jumlah baris setelah memfilter outlier: 9992\n"
          ]
        }
      ],
      "source": [
        "print(f'Jumlah baris sebelum memfilter outlier: {len(df)}')\n",
        "zscore = np.abs(stats.zscore(df['CreditScore'])) # hitung absolute z-scorenya\n",
        "filtered_entries = (zscore < 3)  # keep yang kurang dari 3 absolute z-scorenya\n",
        "df = df[filtered_entries]\n",
        "print(f'Jumlah baris setelah memfilter outlier: {len(df)}')"
      ]
    },
    {
      "cell_type": "markdown",
      "id": "7163ae1f-c215-48dc-b803-c2162145e869",
      "metadata": {
        "id": "7163ae1f-c215-48dc-b803-c2162145e869"
      },
      "source": [
        "# Split data into train and test"
      ]
    },
    {
      "cell_type": "code",
      "execution_count": null,
      "id": "08aaef8b-42e3-45b9-9526-2e6a997b4c03",
      "metadata": {
        "id": "08aaef8b-42e3-45b9-9526-2e6a997b4c03"
      },
      "outputs": [],
      "source": [
        "df_train,df_test = train_test_split(df,test_size=0.2, random_state=42) #Splitting the data into Train and Test"
      ]
    },
    {
      "cell_type": "markdown",
      "id": "03671960-4f04-496a-8107-98ed5c2b5f60",
      "metadata": {
        "id": "03671960-4f04-496a-8107-98ed5c2b5f60"
      },
      "source": [
        "# Feature Scaling in Training Data"
      ]
    },
    {
      "cell_type": "code",
      "execution_count": null,
      "id": "2e65cdea-559b-4925-b4b5-48a8c3a927d4",
      "metadata": {
        "id": "2e65cdea-559b-4925-b4b5-48a8c3a927d4"
      },
      "outputs": [],
      "source": [
        "#input code below\n",
        "handled_dataset = [df_train, df_test]\n",
        "for i in handled_dataset:\n",
        "  i['LogAge'] = np.log(i['Age'])\n",
        "\n"
      ]
    },
    {
      "cell_type": "code",
      "execution_count": null,
      "id": "ce5c85f8-4f88-4497-b458-b9a0b87bf495",
      "metadata": {
        "id": "ce5c85f8-4f88-4497-b458-b9a0b87bf495"
      },
      "outputs": [],
      "source": [
        "for i in handled_dataset:\n",
        "  i['LogAgeNorm'] = MinMaxScaler().fit_transform(i['LogAge'].values.reshape(len(i), 1))\n",
        "  i['BalanceStd'] = StandardScaler().fit_transform(i['Balance'].values.reshape(len(i), 1))\n",
        "  i['BalanceNorm'] = MinMaxScaler().fit_transform(i['BalanceStd'].values.reshape(len(i), 1))\n",
        "  i['EstimatedSalaryStd'] = StandardScaler().fit_transform(i['EstimatedSalary'].values.reshape(len(i), 1))\n",
        "  i['EstimatedSalaryNorm'] = MinMaxScaler().fit_transform(i['EstimatedSalaryStd'].values.reshape(len(i), 1))\n",
        "  i['TenureNorm'] = MinMaxScaler().fit_transform(i['Tenure'].values.reshape(len(i), 1))\n",
        "  i['NumOfProductsNorm'] = MinMaxScaler().fit_transform(i['NumOfProducts'].values.reshape(len(i), 1))\n",
        "  i['CreditScoreNorm'] = MinMaxScaler().fit_transform(i['CreditScore'].values.reshape(len(i), 1))\n"
      ]
    },
    {
      "cell_type": "markdown",
      "id": "379ce23e-aa67-474b-aac7-8e8b34a66e05",
      "metadata": {
        "id": "379ce23e-aa67-474b-aac7-8e8b34a66e05"
      },
      "source": [
        "# Feature Encoding in Training and Test Data"
      ]
    },
    {
      "cell_type": "markdown",
      "id": "6dd36495-9590-4b3c-a05f-ddc0693ec1a9",
      "metadata": {
        "id": "6dd36495-9590-4b3c-a05f-ddc0693ec1a9"
      },
      "source": [
        "kolom `gender` akan dilakukan label encoding, sementara `geography` akan menggunakan one-hot coding"
      ]
    },
    {
      "cell_type": "code",
      "execution_count": null,
      "id": "6b8ad594-fcf1-4519-82ae-f91689aaa402",
      "metadata": {
        "colab": {
          "base_uri": "https://localhost:8080/"
        },
        "id": "6b8ad594-fcf1-4519-82ae-f91689aaa402",
        "outputId": "d29ee88e-d308-4ab2-d919-3345ed3256ce"
      },
      "outputs": [
        {
          "output_type": "execute_result",
          "data": {
            "text/plain": [
              "(1999, 20)"
            ]
          },
          "metadata": {},
          "execution_count": 45
        }
      ],
      "source": [
        "df_test.shape"
      ]
    },
    {
      "cell_type": "markdown",
      "id": "8a8a4f4d-7cd9-4488-9ce5-9fd5a359f2f9",
      "metadata": {
        "id": "8a8a4f4d-7cd9-4488-9ce5-9fd5a359f2f9"
      },
      "source": [
        "#### Label Encoding "
      ]
    },
    {
      "cell_type": "code",
      "execution_count": null,
      "id": "83dcacfa-482d-472a-bd36-0197b7cd4a90",
      "metadata": {
        "id": "83dcacfa-482d-472a-bd36-0197b7cd4a90"
      },
      "outputs": [],
      "source": [
        "# input code below\n",
        "\n",
        "mapping_gender = {\n",
        "    'Female' : 0,\n",
        "    'Male' : 1\n",
        "  }\n",
        "for i in handled_dataset:\n",
        "  i['Gender'] = i['Gender'].map(mapping_gender)"
      ]
    },
    {
      "cell_type": "markdown",
      "id": "f8af1e98-5f9d-48cd-8b36-4e5aa6bd0929",
      "metadata": {
        "id": "f8af1e98-5f9d-48cd-8b36-4e5aa6bd0929"
      },
      "source": [
        "#### One-hot coding"
      ]
    },
    {
      "cell_type": "code",
      "execution_count": null,
      "id": "45b1f506-5d4b-4a37-8de0-f2f459abd1c7",
      "metadata": {
        "id": "45b1f506-5d4b-4a37-8de0-f2f459abd1c7"
      },
      "outputs": [],
      "source": [
        "# input code below\n",
        "for i in handled_dataset:\n",
        "  one_hot_encoding = pd.get_dummies(i['Geography'], prefix='geo')\n",
        "  if i.shape[0] >7000:\n",
        "    df_train = df_train.join(one_hot_encoding)\n",
        "  if i.shape[0] < 2000:\n",
        "    df_test = df_test.join(one_hot_encoding)\n"
      ]
    },
    {
      "cell_type": "markdown",
      "id": "79d8f14c-938e-411e-8fe1-e5194c19c35e",
      "metadata": {
        "id": "79d8f14c-938e-411e-8fe1-e5194c19c35e"
      },
      "source": [
        "# Drop Column Outdated"
      ]
    },
    {
      "cell_type": "code",
      "execution_count": null,
      "id": "3f8527b7-7421-4acc-a7aa-d71355787095",
      "metadata": {
        "id": "3f8527b7-7421-4acc-a7aa-d71355787095"
      },
      "outputs": [],
      "source": [
        "handled_dataset = [df_train, df_test]\n",
        "for i in handled_dataset:\n",
        "  i.drop(columns=['Geography','Age', 'Balance', 'EstimatedSalary', 'EstimatedSalaryStd', \n",
        "                  'BalanceStd', 'Tenure', 'NumOfProducts', 'LogAge', 'CreditScore'], inplace=True)"
      ]
    },
    {
      "cell_type": "markdown",
      "id": "c4b2889d-2a0d-4acc-b9a8-b4cf8488bd10",
      "metadata": {
        "id": "c4b2889d-2a0d-4acc-b9a8-b4cf8488bd10"
      },
      "source": [
        "# Handling Imbalance"
      ]
    },
    {
      "cell_type": "code",
      "execution_count": null,
      "id": "33f512ea-c927-4970-8829-d61eaf56ee19",
      "metadata": {
        "colab": {
          "base_uri": "https://localhost:8080/"
        },
        "id": "33f512ea-c927-4970-8829-d61eaf56ee19",
        "outputId": "bd3181f0-43bb-4bb4-9be9-2e6cc763faab"
      },
      "outputs": [
        {
          "output_type": "stream",
          "name": "stdout",
          "text": [
            "BEFORE\n",
            "0    6360\n",
            "1    1633\n",
            "dtype: int64\n",
            "----------------------\n",
            "AFTER\n",
            "0    6360\n",
            "1    3180\n",
            "dtype: int64\n"
          ]
        }
      ],
      "source": [
        "X = df_train[[col for col in df_train.columns if (str(df_train[col].dtype) != 'object') and col != 'Exited']]\n",
        "y = df_train['Exited'].values\n",
        "X_over_SMOTE, y_over_SMOTE = over_sampling.SMOTE(sampling_strategy=0.5).fit_resample(X, y)\n",
        "\n",
        "print('BEFORE')\n",
        "print(pd.Series(y).value_counts())\n",
        "print('----------------------')\n",
        "print('AFTER')\n",
        "print(pd.Series(y_over_SMOTE).value_counts())"
      ]
    },
    {
      "cell_type": "markdown",
      "id": "ebbac36d-b860-471c-8544-7985bf49984a",
      "metadata": {
        "id": "ebbac36d-b860-471c-8544-7985bf49984a"
      },
      "source": [
        " "
      ]
    },
    {
      "cell_type": "markdown",
      "id": "c0f36f7a-7ec9-4875-9c0b-0439b43d15e4",
      "metadata": {
        "id": "c0f36f7a-7ec9-4875-9c0b-0439b43d15e4"
      },
      "source": [
        "# Modelling"
      ]
    },
    {
      "cell_type": "code",
      "execution_count": null,
      "id": "262f7119-b7a4-4d35-b777-c6ec4c19638d",
      "metadata": {
        "id": "262f7119-b7a4-4d35-b777-c6ec4c19638d"
      },
      "outputs": [],
      "source": [
        "from sklearn.metrics import accuracy_score, recall_score\n",
        "from sklearn.model_selection import RandomizedSearchCV\n",
        "from sklearn.linear_model import LogisticRegression\n",
        "from sklearn.tree import DecisionTreeClassifier\n",
        "from sklearn.ensemble import RandomForestClassifier\n",
        "from sklearn.ensemble import AdaBoostClassifier\n",
        "from xgboost import XGBClassifier\n",
        "\n"
      ]
    },
    {
      "cell_type": "code",
      "execution_count": null,
      "id": "96a165ef-dc60-4f7a-bff9-4e379320bd4a",
      "metadata": {
        "id": "96a165ef-dc60-4f7a-bff9-4e379320bd4a"
      },
      "outputs": [],
      "source": [
        "X_train = X_over_SMOTE\n",
        "y_train = y_over_SMOTE\n",
        "X_test = df_test[[col for col in df_test.columns if (str(df_test[col].dtype) != 'object') and col != 'Exited']]\n",
        "y_test = df_test['Exited'].values"
      ]
    },
    {
      "cell_type": "code",
      "execution_count": null,
      "id": "53d90c74-e871-40ae-82b0-b168b2062ef6",
      "metadata": {
        "id": "53d90c74-e871-40ae-82b0-b168b2062ef6"
      },
      "outputs": [],
      "source": [
        "from sklearn.metrics import accuracy_score, precision_score, recall_score, f1_score\n",
        "from sklearn.metrics import roc_curve, auc\n",
        "\n",
        "def eval_classification(model, pred, xtrain, ytrain, xtest, ytest):\n",
        "    print(\"Accuracy (Test on train Set): %.2f\" % accuracy_score(ytest, pred))\n",
        "    print(\"Precision (Test on train Set): %.2f\" % precision_score(ytest, pred))\n",
        "    print(\"Recall (Test on train Set): %.2f\" % recall_score(ytest, pred))\n",
        "    print(\"F1-Score (Test on train Set): %.2f\" % f1_score(ytest, pred))\n",
        "    \n",
        "    fpr, tpr, thresholds = roc_curve(ytest, pred, pos_label=1) # pos_label: label yang kita anggap positive\n",
        "    print(\"AUC: %.2f\" % auc(fpr, tpr))\n",
        "\n",
        "def show_feature_importance(model):\n",
        "    feat_importances = pd.Series(model.feature_importances_, index=X.columns)\n",
        "    ax = feat_importances.nlargest(25).plot(kind='barh', figsize=(10, 8))\n",
        "    ax.invert_yaxis()\n",
        "\n",
        "    plt.xlabel('score')\n",
        "    plt.ylabel('feature')\n",
        "    plt.title('feature importance score')\n",
        "\n",
        "def show_best_hyperparameter(model, hyperparameters):\n",
        "    for key, value in hyperparameters.items() :\n",
        "        print('Best '+key+':', model.get_params()[key])"
      ]
    },
    {
      "cell_type": "code",
      "execution_count": null,
      "id": "4c440417-859c-467c-b2f5-df10f4907f12",
      "metadata": {
        "id": "4c440417-859c-467c-b2f5-df10f4907f12"
      },
      "outputs": [],
      "source": [
        "from sklearn.neighbors import KNeighborsClassifier\n",
        "from sklearn.tree import DecisionTreeClassifier\n",
        "from sklearn.ensemble import RandomForestClassifier\n",
        "from sklearn.ensemble import AdaBoostClassifier\n",
        "from xgboost import XGBClassifier"
      ]
    },
    {
      "cell_type": "markdown",
      "id": "5f1fa244-4078-48eb-9746-965cc81de40e",
      "metadata": {
        "id": "5f1fa244-4078-48eb-9746-965cc81de40e"
      },
      "source": [
        "### Logistic Regression"
      ]
    },
    {
      "cell_type": "code",
      "execution_count": null,
      "id": "d28e28e3-e3cd-4edd-9439-c03a5205997a",
      "metadata": {
        "ExecuteTime": {
          "end_time": "2021-03-21T02:47:14.894868Z",
          "start_time": "2021-03-21T02:47:14.851793Z"
        },
        "id": "d28e28e3-e3cd-4edd-9439-c03a5205997a",
        "outputId": "36d490d7-f12a-4123-c63b-caa508434c6c",
        "colab": {
          "base_uri": "https://localhost:8080/"
        }
      },
      "outputs": [
        {
          "output_type": "execute_result",
          "data": {
            "text/plain": [
              "LogisticRegression()"
            ]
          },
          "metadata": {},
          "execution_count": 54
        }
      ],
      "source": [
        "lr = LogisticRegression()\n",
        "lr.fit(X_train, y_train)"
      ]
    },
    {
      "cell_type": "markdown",
      "id": "0890eb02-4f37-47bd-b52a-dc69d97cfa39",
      "metadata": {
        "id": "0890eb02-4f37-47bd-b52a-dc69d97cfa39"
      },
      "source": [
        "<b>Prediction Result (in data test)</b>"
      ]
    },
    {
      "cell_type": "code",
      "execution_count": null,
      "id": "01174601-54cc-4002-a209-f0cda7524757",
      "metadata": {
        "ExecuteTime": {
          "end_time": "2021-03-21T02:47:15.181659Z",
          "start_time": "2021-03-21T02:47:15.173784Z"
        },
        "id": "01174601-54cc-4002-a209-f0cda7524757"
      },
      "outputs": [],
      "source": [
        "y_pred = lr.predict(X_test)"
      ]
    },
    {
      "cell_type": "markdown",
      "id": "ce583cf5-3871-45a4-820d-dcb22b5e9acf",
      "metadata": {
        "id": "ce583cf5-3871-45a4-820d-dcb22b5e9acf"
      },
      "source": [
        "<b>Evaluation</b>"
      ]
    },
    {
      "cell_type": "code",
      "execution_count": null,
      "id": "0c312d91-3d33-47e3-80b1-744d0f9727c6",
      "metadata": {
        "id": "0c312d91-3d33-47e3-80b1-744d0f9727c6"
      },
      "outputs": [],
      "source": [
        "lr_recall=recall_score(y_test, y_pred)\n",
        "lr_acc=accuracy_score(y_test, y_pred)"
      ]
    },
    {
      "cell_type": "code",
      "execution_count": null,
      "id": "448e9585-c150-44a3-b86a-0b08af30dfe4",
      "metadata": {
        "ExecuteTime": {
          "end_time": "2021-03-21T02:47:16.155765Z",
          "start_time": "2021-03-21T02:47:16.126910Z"
        },
        "id": "448e9585-c150-44a3-b86a-0b08af30dfe4",
        "outputId": "a635f754-ad5d-4e22-e8bc-67183aa629cd",
        "colab": {
          "base_uri": "https://localhost:8080/"
        }
      },
      "outputs": [
        {
          "output_type": "stream",
          "name": "stdout",
          "text": [
            "Recall: 0.42\n",
            "Accuracy: 0.80\n"
          ]
        }
      ],
      "source": [
        "print('Recall: %.2f'%lr_recall)\n",
        "print('Accuracy: %.2f'%lr_acc)\n"
      ]
    },
    {
      "cell_type": "code",
      "execution_count": null,
      "id": "9db8ddd9-5af9-4852-bd9b-38b6a6ccbbd4",
      "metadata": {
        "ExecuteTime": {
          "end_time": "2021-03-21T02:47:22.729583Z",
          "start_time": "2021-03-21T02:47:22.714812Z"
        },
        "id": "9db8ddd9-5af9-4852-bd9b-38b6a6ccbbd4",
        "outputId": "095a15c1-21ae-423b-fd0a-65b7f76b4d6e",
        "colab": {
          "base_uri": "https://localhost:8080/"
        }
      },
      "outputs": [
        {
          "output_type": "stream",
          "name": "stdout",
          "text": [
            "Train score: 0.7460167714884696\n",
            "Test score:0.8009004502251126\n"
          ]
        }
      ],
      "source": [
        "print('Train score: ' + str(lr.score(X_train, y_train))) #accuracy\n",
        "print('Test score:' + str(lr.score(X_test, y_test))) #accuracy"
      ]
    },
    {
      "cell_type": "code",
      "execution_count": null,
      "id": "53f563d9-2515-4bf6-8d82-f1608f0d7917",
      "metadata": {
        "id": "53f563d9-2515-4bf6-8d82-f1608f0d7917"
      },
      "outputs": [],
      "source": [
        ""
      ]
    },
    {
      "cell_type": "markdown",
      "id": "d5f6b8b8-d99f-40f6-9a43-48557d6c1806",
      "metadata": {
        "id": "d5f6b8b8-d99f-40f6-9a43-48557d6c1806"
      },
      "source": [
        "#### Hyperparemter Tuning Randomized Search"
      ]
    },
    {
      "cell_type": "code",
      "execution_count": null,
      "id": "c8dad4f4-d871-4d60-bb32-10f09ff79a10",
      "metadata": {
        "ExecuteTime": {
          "end_time": "2021-03-21T02:49:49.889693Z",
          "start_time": "2021-03-21T02:49:49.556447Z"
        },
        "id": "c8dad4f4-d871-4d60-bb32-10f09ff79a10",
        "scrolled": true,
        "tags": []
      },
      "outputs": [],
      "source": [
        "from sklearn.model_selection import RandomizedSearchCV, GridSearchCV\n",
        "\n",
        "# List Hyperparameters yang akan diuji\n",
        "hyperparameters = {\n",
        "    'max_iter': [100],\n",
        "    'penalty': ['l1', 'l2'],\n",
        "    'C': [0.0001, 0.001, 0.01, 0.1, 1, 10],\n",
        "    'solver': ['lbfgs', 'liblinear']\n",
        "}\n",
        "\n",
        "# Inisiasi model\n",
        "lr = LogisticRegression() # Init lr dengan RandomizedSearch, cross validation = 5\n",
        "lr_tuned = GridSearchCV(\n",
        "    estimator=lr,\n",
        "    param_grid=hyperparameters,\n",
        "    cv=5,\n",
        "    scoring='recall',\n",
        "    verbose=False,\n",
        "    n_jobs=-1\n",
        ")\n",
        "\n",
        "# Fitting Model & Evaluation\n",
        "lr_tuned.fit(X_train, y_train)\n",
        "y_pred = lr_tuned.predict(X_test)\n"
      ]
    },
    {
      "cell_type": "code",
      "execution_count": null,
      "id": "48eedbbe-ae4b-4243-b3a9-c03f7ab28adc",
      "metadata": {
        "id": "48eedbbe-ae4b-4243-b3a9-c03f7ab28adc"
      },
      "outputs": [],
      "source": [
        "lr_recall=recall_score(y_test, y_pred)\n",
        "lr_acc=accuracy_score(y_test, y_pred)"
      ]
    },
    {
      "cell_type": "code",
      "execution_count": null,
      "id": "31528235-0db7-4d97-9595-6f87d8d636f9",
      "metadata": {
        "ExecuteTime": {
          "end_time": "2021-03-21T02:47:16.155765Z",
          "start_time": "2021-03-21T02:47:16.126910Z"
        },
        "id": "31528235-0db7-4d97-9595-6f87d8d636f9",
        "outputId": "20401d46-5bd8-402b-f6b9-0f00aa6e546f",
        "colab": {
          "base_uri": "https://localhost:8080/"
        }
      },
      "outputs": [
        {
          "output_type": "stream",
          "name": "stdout",
          "text": [
            "Recall: 0.42\n",
            "Accuracy: 0.80\n"
          ]
        }
      ],
      "source": [
        "print('Recall: %.2f'%lr_recall)\n",
        "print('Accuracy: %.2f'%lr_acc)\n"
      ]
    },
    {
      "cell_type": "code",
      "execution_count": null,
      "id": "a952289f-df66-4a3c-81d4-4c466ff7f232",
      "metadata": {
        "ExecuteTime": {
          "end_time": "2021-03-21T02:49:49.896954Z",
          "start_time": "2021-03-21T02:49:49.891831Z"
        },
        "id": "a952289f-df66-4a3c-81d4-4c466ff7f232",
        "outputId": "087be4b4-cc83-44c7-fdef-ff0f3a47c3b6",
        "colab": {
          "base_uri": "https://localhost:8080/"
        }
      },
      "outputs": [
        {
          "output_type": "stream",
          "name": "stdout",
          "text": [
            "Best max_iter: 100\n",
            "Best penalty: l1\n",
            "Best C: 10\n",
            "Best solver: liblinear\n"
          ]
        }
      ],
      "source": [
        "show_best_hyperparameter(lr_tuned.best_estimator_, hyperparameters)"
      ]
    },
    {
      "cell_type": "code",
      "execution_count": null,
      "id": "807f6d4e-fe9c-454e-afce-d44e57c1031d",
      "metadata": {
        "ExecuteTime": {
          "end_time": "2021-03-21T02:49:49.955993Z",
          "start_time": "2021-03-21T02:49:49.943290Z"
        },
        "id": "807f6d4e-fe9c-454e-afce-d44e57c1031d",
        "outputId": "8930cce4-1e36-41a1-bc60-378bd772b9fc",
        "colab": {
          "base_uri": "https://localhost:8080/"
        }
      },
      "outputs": [
        {
          "output_type": "stream",
          "name": "stdout",
          "text": [
            "Train score:  0.4779874213836478\n",
            "Test score: 0.41919191919191917\n"
          ]
        }
      ],
      "source": [
        "train_score_lr = lr_tuned.score(X_train, y_train)\n",
        "test_score_lr = lr_tuned.score(X_test, y_test)\n",
        "print('Train score: ', train_score_lr) #accuracy\n",
        "print('Test score:', test_score_lr) #accuracy"
      ]
    },
    {
      "cell_type": "code",
      "execution_count": null,
      "id": "6427e9cb-3e25-4867-af69-c6b216c905d7",
      "metadata": {
        "id": "6427e9cb-3e25-4867-af69-c6b216c905d7"
      },
      "outputs": [],
      "source": [
        "#feat_importances = pd.Series(lr_tuned.best_estimator_.feature_importances_, index=X.columns)\n",
        "#ax = feat_importances.nlargest(25).plot(kind='barh', figsize=(10, 8))\n",
        "#ax.invert_yaxis()\n",
        "\n",
        "#plt.xlabel('score')\n",
        "#plt.ylabel('feature')\n",
        "#plt.title('feature importance score')"
      ]
    },
    {
      "cell_type": "markdown",
      "id": "d8bfdb8d-ddeb-4835-acf7-de4f3124265f",
      "metadata": {
        "id": "d8bfdb8d-ddeb-4835-acf7-de4f3124265f"
      },
      "source": [
        "## DecisionTreeClassifier"
      ]
    },
    {
      "cell_type": "code",
      "execution_count": null,
      "id": "3ebc2c99-c08d-4b01-b0de-91a4a30650fe",
      "metadata": {
        "ExecuteTime": {
          "end_time": "2021-03-21T02:47:14.894868Z",
          "start_time": "2021-03-21T02:47:14.851793Z"
        },
        "id": "3ebc2c99-c08d-4b01-b0de-91a4a30650fe",
        "outputId": "f7a79e9e-0a52-454d-8471-067da0517539",
        "colab": {
          "base_uri": "https://localhost:8080/"
        }
      },
      "outputs": [
        {
          "output_type": "execute_result",
          "data": {
            "text/plain": [
              "DecisionTreeClassifier(random_state=42)"
            ]
          },
          "metadata": {},
          "execution_count": 65
        }
      ],
      "source": [
        "dt = DecisionTreeClassifier(random_state=42)\n",
        "dt.fit(X_train, y_train)\n"
      ]
    },
    {
      "cell_type": "markdown",
      "id": "406ee37d-9eb5-42f1-9fd7-c1b45ece5198",
      "metadata": {
        "id": "406ee37d-9eb5-42f1-9fd7-c1b45ece5198"
      },
      "source": [
        "<b>Prediction Result (in data test)</b>"
      ]
    },
    {
      "cell_type": "code",
      "execution_count": null,
      "id": "681c9a36-715c-49e1-8778-fde7d8090b72",
      "metadata": {
        "ExecuteTime": {
          "end_time": "2021-03-21T02:47:15.181659Z",
          "start_time": "2021-03-21T02:47:15.173784Z"
        },
        "id": "681c9a36-715c-49e1-8778-fde7d8090b72"
      },
      "outputs": [],
      "source": [
        "y_pred = dt.predict(X_test)"
      ]
    },
    {
      "cell_type": "markdown",
      "id": "56b7206c-dce5-439b-afcd-a23f6069c4a5",
      "metadata": {
        "id": "56b7206c-dce5-439b-afcd-a23f6069c4a5"
      },
      "source": [
        "<b>Evaluation</b>"
      ]
    },
    {
      "cell_type": "code",
      "execution_count": null,
      "id": "b015444b-3b8a-4ed8-9b5b-ac45c21477dc",
      "metadata": {
        "id": "b015444b-3b8a-4ed8-9b5b-ac45c21477dc"
      },
      "outputs": [],
      "source": [
        "dt_recall=recall_score(y_test, y_pred)\n",
        "dt_acc=accuracy_score(y_test, y_pred)"
      ]
    },
    {
      "cell_type": "code",
      "execution_count": null,
      "id": "3c22e375-cebc-459b-82f2-03714fda0150",
      "metadata": {
        "ExecuteTime": {
          "end_time": "2021-03-21T02:47:16.155765Z",
          "start_time": "2021-03-21T02:47:16.126910Z"
        },
        "id": "3c22e375-cebc-459b-82f2-03714fda0150",
        "outputId": "daeb1196-4b88-470d-c723-ab1ed59c372a",
        "colab": {
          "base_uri": "https://localhost:8080/"
        }
      },
      "outputs": [
        {
          "output_type": "stream",
          "name": "stdout",
          "text": [
            "Recall: 0.59\n",
            "Accuracy: 0.76\n"
          ]
        }
      ],
      "source": [
        "print('Recall: %.2f'%dt_recall)\n",
        "print('Accuracy: %.2f'%dt_acc)\n"
      ]
    },
    {
      "cell_type": "code",
      "execution_count": null,
      "id": "bdf05d87-111f-45ab-83a1-9724018e982d",
      "metadata": {
        "ExecuteTime": {
          "end_time": "2021-03-21T02:47:22.729583Z",
          "start_time": "2021-03-21T02:47:22.714812Z"
        },
        "id": "bdf05d87-111f-45ab-83a1-9724018e982d",
        "outputId": "601c9599-4446-4fb8-ea04-3f928f78d975",
        "colab": {
          "base_uri": "https://localhost:8080/"
        }
      },
      "outputs": [
        {
          "output_type": "stream",
          "name": "stdout",
          "text": [
            "Train score: 1.0\n",
            "Test score:0.7628814407203601\n"
          ]
        }
      ],
      "source": [
        "print('Train score: ' + str(dt.score(X_train, y_train))) #accuracy\n",
        "print('Test score:' + str(dt.score(X_test, y_test))) #accuracy"
      ]
    },
    {
      "cell_type": "markdown",
      "id": "534e6260-cfd5-4994-b890-86c025fd8cfb",
      "metadata": {
        "id": "534e6260-cfd5-4994-b890-86c025fd8cfb"
      },
      "source": [
        "### Hyperparemter Tuning Randomized Search"
      ]
    },
    {
      "cell_type": "code",
      "execution_count": null,
      "id": "daa5b70c-f564-4a08-8e5c-cd2a679ea213",
      "metadata": {
        "ExecuteTime": {
          "end_time": "2021-03-21T02:49:49.889693Z",
          "start_time": "2021-03-21T02:49:49.556447Z"
        },
        "id": "daa5b70c-f564-4a08-8e5c-cd2a679ea213",
        "scrolled": true,
        "tags": []
      },
      "outputs": [],
      "source": [
        "from sklearn.model_selection import RandomizedSearchCV,GridSearchCV\n",
        "max_depth = [int(x) for x in np.linspace(1, 300, num = 80)] # Maximum number of levels in tree\n",
        "min_samples_split = [2, 5, 10, 100,200,500,1000] # Minimum number of samples required to split a node\n",
        "min_samples_leaf = [1, 2, 4, 10, 20, 50,100] # Minimum number of samples required at each leaf node\n",
        "max_features = ['auto', 'sqrt'] # Number of features to consider at every split\n",
        "\n",
        "hyperparameters = dict(max_depth=max_depth, \n",
        "                       min_samples_split=min_samples_split, \n",
        "                       min_samples_leaf=min_samples_leaf,\n",
        "                       max_features=max_features\n",
        "                      )\n",
        "\n",
        "\n",
        "\n",
        "# Inisiasi model\n",
        "dt = DecisionTreeClassifier() # Init knn dengan Gridsearch, cross validation = 5\n",
        "dt_tuned = RandomizedSearchCV(dt, hyperparameters, cv=5, scoring='recall',random_state=42)\n",
        "\n",
        "# Fitting Model & Evaluation\n",
        "dt_tuned.fit(X_train, y_train)\n",
        "y_pred = dt_tuned.predict(X_test)"
      ]
    },
    {
      "cell_type": "code",
      "execution_count": null,
      "id": "13e08a0d-b4f6-4357-aba8-25d65c9cbe5d",
      "metadata": {
        "id": "13e08a0d-b4f6-4357-aba8-25d65c9cbe5d"
      },
      "outputs": [],
      "source": [
        ""
      ]
    },
    {
      "cell_type": "code",
      "execution_count": null,
      "id": "6fa15fd0-dca5-42b8-bc40-10c222583b04",
      "metadata": {
        "id": "6fa15fd0-dca5-42b8-bc40-10c222583b04"
      },
      "outputs": [],
      "source": [
        "dt_recall=recall_score(y_test, y_pred)\n",
        "dt_acc=accuracy_score(y_test, y_pred)"
      ]
    },
    {
      "cell_type": "code",
      "execution_count": null,
      "id": "5b410f41-67a9-46d3-8fdd-a7c1338db71d",
      "metadata": {
        "ExecuteTime": {
          "end_time": "2021-03-21T02:47:16.155765Z",
          "start_time": "2021-03-21T02:47:16.126910Z"
        },
        "id": "5b410f41-67a9-46d3-8fdd-a7c1338db71d",
        "outputId": "e556394d-0bcf-44b8-f4c9-cafed63485a0",
        "colab": {
          "base_uri": "https://localhost:8080/"
        }
      },
      "outputs": [
        {
          "output_type": "stream",
          "name": "stdout",
          "text": [
            "Recall: 0.56\n",
            "Accuracy: 0.73\n"
          ]
        }
      ],
      "source": [
        "print('Recall: %.2f'%dt_recall)\n",
        "print('Accuracy: %.2f'%dt_acc)\n"
      ]
    },
    {
      "cell_type": "code",
      "execution_count": null,
      "id": "5f77374d-fff8-43cd-a83f-47c5f22ab67b",
      "metadata": {
        "ExecuteTime": {
          "end_time": "2021-03-21T02:49:49.896954Z",
          "start_time": "2021-03-21T02:49:49.891831Z"
        },
        "id": "5f77374d-fff8-43cd-a83f-47c5f22ab67b",
        "outputId": "57e09179-8bea-42d4-c6ce-9d2e2c7eef99",
        "colab": {
          "base_uri": "https://localhost:8080/"
        }
      },
      "outputs": [
        {
          "output_type": "stream",
          "name": "stdout",
          "text": [
            "Best max_depth: 209\n",
            "Best min_samples_split: 2\n",
            "Best min_samples_leaf: 1\n",
            "Best max_features: auto\n"
          ]
        }
      ],
      "source": [
        "show_best_hyperparameter(dt_tuned.best_estimator_, hyperparameters)"
      ]
    },
    {
      "cell_type": "code",
      "execution_count": null,
      "id": "903444a7-fee2-4147-99ab-f8f6f7a6134b",
      "metadata": {
        "ExecuteTime": {
          "end_time": "2021-03-21T02:49:49.955993Z",
          "start_time": "2021-03-21T02:49:49.943290Z"
        },
        "id": "903444a7-fee2-4147-99ab-f8f6f7a6134b",
        "outputId": "f9df385d-a348-4bbf-d3c8-100c65a10d06",
        "colab": {
          "base_uri": "https://localhost:8080/"
        }
      },
      "outputs": [
        {
          "output_type": "stream",
          "name": "stdout",
          "text": [
            "Train score:  1.0\n",
            "Test score: 0.5606060606060606\n"
          ]
        }
      ],
      "source": [
        "train_score_dt = dt_tuned.score(X_train, y_train)\n",
        "test_score_dt = dt_tuned.score(X_test, y_test)\n",
        "print('Train score: ', train_score_dt) #accuracy\n",
        "print('Test score:', test_score_dt) #accuracy"
      ]
    },
    {
      "cell_type": "code",
      "execution_count": null,
      "id": "4ab5532b-7d1c-4bc8-a855-f00018b5377e",
      "metadata": {
        "colab": {
          "base_uri": "https://localhost:8080/",
          "height": 530
        },
        "id": "4ab5532b-7d1c-4bc8-a855-f00018b5377e",
        "outputId": "1f61811e-a8e6-4137-d215-0cf3b25b3f99"
      },
      "outputs": [
        {
          "output_type": "execute_result",
          "data": {
            "text/plain": [
              "Text(0.5, 1.0, 'feature importance score')"
            ]
          },
          "metadata": {},
          "execution_count": 75
        },
        {
          "output_type": "display_data",
          "data": {
            "text/plain": [
              "<Figure size 720x576 with 1 Axes>"
            ],
            "image/png": "[encoded data removed]"
          },
          "metadata": {
            "needs_background": "light"
          }
        }
      ],
      "source": [
        "feat_importances = pd.Series(dt_tuned.best_estimator_.feature_importances_, index=X.columns)\n",
        "ax = feat_importances.nlargest(25).plot(kind='barh', figsize=(10, 8))\n",
        "ax.invert_yaxis()\n",
        "\n",
        "plt.xlabel('score')\n",
        "plt.ylabel('feature')\n",
        "plt.title('feature importance score')"
      ]
    },
    {
      "cell_type": "markdown",
      "id": "89059e5d-659d-4705-b6fc-0b7d7c9daeb5",
      "metadata": {
        "id": "89059e5d-659d-4705-b6fc-0b7d7c9daeb5"
      },
      "source": [
        "## XGBOOST Classifier"
      ]
    },
    {
      "cell_type": "code",
      "execution_count": null,
      "id": "dc380061-94a7-4ced-9a29-da1b8d7943a3",
      "metadata": {
        "ExecuteTime": {
          "end_time": "2021-03-21T02:47:14.894868Z",
          "start_time": "2021-03-21T02:47:14.851793Z"
        },
        "id": "dc380061-94a7-4ced-9a29-da1b8d7943a3",
        "outputId": "08accd58-2f33-450f-87b0-901660c92c05",
        "colab": {
          "base_uri": "https://localhost:8080/"
        }
      },
      "outputs": [
        {
          "output_type": "execute_result",
          "data": {
            "text/plain": [
              "XGBClassifier(base_score=0.5, booster='gbtree', colsample_bylevel=1,\n",
              "              colsample_bynode=1, colsample_bytree=1, enable_categorical=False,\n",
              "              eval_metric='logloss', gamma=0, gpu_id=-1, importance_type=None,\n",
              "              interaction_constraints='', learning_rate=0.300000012,\n",
              "              max_delta_step=0, max_depth=6, min_child_weight=1, missing=nan,\n",
              "              monotone_constraints='()', n_estimators=100, n_jobs=16,\n",
              "              num_parallel_tree=1, predictor='auto', random_state=42,\n",
              "              reg_alpha=0, reg_lambda=1, scale_pos_weight=1, subsample=1,\n",
              "              tree_method='exact', use_label_encoder=False,\n",
              "              validate_parameters=1, verbosity=None)"
            ]
          },
          "metadata": {},
          "execution_count": 76
        }
      ],
      "source": [
        "xg = XGBClassifier(random_state=42,eval_metric='logloss',use_label_encoder=False)\n",
        "xg.fit(X_train, y_train)"
      ]
    },
    {
      "cell_type": "markdown",
      "id": "75d24698-2550-4f5f-9d82-db7a4af8b7a2",
      "metadata": {
        "id": "75d24698-2550-4f5f-9d82-db7a4af8b7a2"
      },
      "source": [
        "<b>Prediction Result (in data test)</b>"
      ]
    },
    {
      "cell_type": "code",
      "execution_count": null,
      "id": "2d207783-3b76-41bc-9080-4e183f7bf8da",
      "metadata": {
        "ExecuteTime": {
          "end_time": "2021-03-21T02:47:15.181659Z",
          "start_time": "2021-03-21T02:47:15.173784Z"
        },
        "id": "2d207783-3b76-41bc-9080-4e183f7bf8da"
      },
      "outputs": [],
      "source": [
        "y_pred = xg.predict(X_test)"
      ]
    },
    {
      "cell_type": "markdown",
      "id": "17b0502f-9821-442c-99fd-86e4cf0a7b53",
      "metadata": {
        "id": "17b0502f-9821-442c-99fd-86e4cf0a7b53"
      },
      "source": [
        "<b>Evaluation</b>"
      ]
    },
    {
      "cell_type": "code",
      "execution_count": null,
      "id": "eee5ce00-4b65-496f-b24f-17cba846fb56",
      "metadata": {
        "id": "eee5ce00-4b65-496f-b24f-17cba846fb56"
      },
      "outputs": [],
      "source": [
        "xg_recall=recall_score(y_test, y_pred)\n",
        "xg_acc=accuracy_score(y_test, y_pred)"
      ]
    },
    {
      "cell_type": "code",
      "execution_count": null,
      "id": "f8275a0f-f5c9-4c83-8808-a5e51bc51650",
      "metadata": {
        "ExecuteTime": {
          "end_time": "2021-03-21T02:47:16.155765Z",
          "start_time": "2021-03-21T02:47:16.126910Z"
        },
        "id": "f8275a0f-f5c9-4c83-8808-a5e51bc51650",
        "outputId": "7ec39d09-961b-4b46-a035-7f014164958a",
        "colab": {
          "base_uri": "https://localhost:8080/"
        }
      },
      "outputs": [
        {
          "output_type": "stream",
          "name": "stdout",
          "text": [
            "Recall: 0.63\n",
            "Accuracy: 0.82\n"
          ]
        }
      ],
      "source": [
        "print('Recall: %.2f'%xg_recall)\n",
        "print('Accuracy: %.2f'%xg_acc)\n"
      ]
    },
    {
      "cell_type": "code",
      "execution_count": null,
      "id": "94138161-90e3-45f5-b12f-54e8234a9c80",
      "metadata": {
        "ExecuteTime": {
          "end_time": "2021-03-21T02:47:22.729583Z",
          "start_time": "2021-03-21T02:47:22.714812Z"
        },
        "id": "94138161-90e3-45f5-b12f-54e8234a9c80",
        "outputId": "e3ca4d70-7e9d-425e-9e92-5a8043982d12",
        "colab": {
          "base_uri": "https://localhost:8080/"
        }
      },
      "outputs": [
        {
          "output_type": "stream",
          "name": "stdout",
          "text": [
            "Train score: 0.9531446540880503\n",
            "Test score:0.8209104552276139\n"
          ]
        }
      ],
      "source": [
        "print('Train score: ' + str(xg.score(X_train, y_train))) #accuracy\n",
        "print('Test score:' + str(xg.score(X_test, y_test))) #accuracy"
      ]
    },
    {
      "cell_type": "markdown",
      "id": "1140c3bf-0431-4191-8614-175ba2c115ca",
      "metadata": {
        "id": "1140c3bf-0431-4191-8614-175ba2c115ca"
      },
      "source": [
        "### Hyperparemter Tuning Randomized Search"
      ]
    },
    {
      "cell_type": "code",
      "execution_count": null,
      "id": "2156003b-fccd-4592-90db-d7c7cb40bac9",
      "metadata": {
        "ExecuteTime": {
          "end_time": "2021-03-21T02:49:49.889693Z",
          "start_time": "2021-03-21T02:49:49.556447Z"
        },
        "id": "2156003b-fccd-4592-90db-d7c7cb40bac9",
        "scrolled": true,
        "tags": []
      },
      "outputs": [],
      "source": [
        "from sklearn.model_selection import RandomizedSearchCV,GridSearchCV\n",
        "\n",
        "# List Hyperparameters yang akan diuji\n",
        "hyperparameters = {\n",
        "                    'max_depth' : [int(x) for x in np.linspace(10, 110, num = 11)],\n",
        "                    'min_child_weight' : [int(x) for x in np.linspace(1, 20, num = 11)],\n",
        "                    'gamma' : [float(x) for x in np.linspace(0, 1, num = 11)],\n",
        "                    'tree_method' : ['auto', 'exact', 'approx', 'hist'],\n",
        "\n",
        "                    'colsample_bytree' : [float(x) for x in np.linspace(0, 1, num = 11)],\n",
        "                    'eta' : [float(x) for x in np.linspace(0, 1, num = 100)],\n",
        "\n",
        "                    'lambda' : [float(x) for x in np.linspace(0, 1, num = 11)],\n",
        "                    'alpha' : [float(x) for x in np.linspace(0, 1, num = 11)]\n",
        "                    }\n",
        "\n",
        "# Inisiasi model\n",
        "xg = XGBClassifier(random_state=42,eval_metric='logloss',use_label_encoder=False) # Init knn dengan Gridsearch, cross validation = 5\n",
        "xg_tuned = RandomizedSearchCV(xg, hyperparameters, cv=5, scoring='recall',random_state=42)\n",
        "\n",
        "# Fitting Model & Evaluation\n",
        "xg_tuned.fit(X_train, y_train)\n",
        "y_pred = xg_tuned.predict(X_test)\n"
      ]
    },
    {
      "cell_type": "code",
      "execution_count": null,
      "id": "ec9ccbc6-8f48-4241-a634-bc925876c288",
      "metadata": {
        "id": "ec9ccbc6-8f48-4241-a634-bc925876c288"
      },
      "outputs": [],
      "source": [
        "\n",
        "xg_recall=recall_score(y_test, y_pred)\n",
        "xg_acc=accuracy_score(y_test, y_pred)"
      ]
    },
    {
      "cell_type": "code",
      "execution_count": null,
      "id": "99023383-9ac5-4175-8ee8-58bb4e326243",
      "metadata": {
        "ExecuteTime": {
          "end_time": "2021-03-21T02:47:16.155765Z",
          "start_time": "2021-03-21T02:47:16.126910Z"
        },
        "id": "99023383-9ac5-4175-8ee8-58bb4e326243",
        "outputId": "d66ee2ce-9098-4904-f88a-4c1c020b2976",
        "colab": {
          "base_uri": "https://localhost:8080/"
        }
      },
      "outputs": [
        {
          "output_type": "stream",
          "name": "stdout",
          "text": [
            "Recall: 0.63\n",
            "Accuracy: 0.82\n"
          ]
        }
      ],
      "source": [
        "print('Recall: %.2f'%xg_recall)\n",
        "print('Accuracy: %.2f'%xg_acc)\n"
      ]
    },
    {
      "cell_type": "code",
      "execution_count": null,
      "id": "7c750f2d-79b4-42cc-9f8d-e29fc7c0b181",
      "metadata": {
        "ExecuteTime": {
          "end_time": "2021-03-21T02:49:49.896954Z",
          "start_time": "2021-03-21T02:49:49.891831Z"
        },
        "id": "7c750f2d-79b4-42cc-9f8d-e29fc7c0b181",
        "outputId": "e7ee60b7-8796-4a82-f2ca-f5b8d7453b78",
        "colab": {
          "base_uri": "https://localhost:8080/"
        }
      },
      "outputs": [
        {
          "output_type": "stream",
          "name": "stdout",
          "text": [
            "Best max_depth: 50\n",
            "Best min_child_weight: 4\n",
            "Best gamma: 1.0\n",
            "Best tree_method: approx\n",
            "Best colsample_bytree: 0.7000000000000001\n",
            "Best eta: 0.31313131313131315\n",
            "Best lambda: 0.6000000000000001\n",
            "Best alpha: 0.6000000000000001\n"
          ]
        }
      ],
      "source": [
        "show_best_hyperparameter(xg_tuned.best_estimator_, hyperparameters)"
      ]
    },
    {
      "cell_type": "code",
      "execution_count": null,
      "id": "82d1dce4-ddbb-4543-ab2a-45162d5261ea",
      "metadata": {
        "ExecuteTime": {
          "end_time": "2021-03-21T02:49:49.955993Z",
          "start_time": "2021-03-21T02:49:49.943290Z"
        },
        "id": "82d1dce4-ddbb-4543-ab2a-45162d5261ea",
        "outputId": "318c4400-f7a4-40e2-8567-b1522f5a027a",
        "colab": {
          "base_uri": "https://localhost:8080/"
        }
      },
      "outputs": [
        {
          "output_type": "stream",
          "name": "stdout",
          "text": [
            "Train score:  0.9660377358490566\n",
            "Test score: 0.6313131313131313\n"
          ]
        }
      ],
      "source": [
        "train_score_xgboost = xg_tuned.score(X_train, y_train)\n",
        "test_score_xgboost = xg_tuned.score(X_test, y_test)\n",
        "\n",
        "print('Train score: ', train_score_xgboost) #accuracy\n",
        "print('Test score:', test_score_xgboost) #accuracy"
      ]
    },
    {
      "cell_type": "code",
      "execution_count": null,
      "id": "66037801-fdc1-4250-9b96-31df3eddee7c",
      "metadata": {
        "colab": {
          "base_uri": "https://localhost:8080/",
          "height": 530
        },
        "id": "66037801-fdc1-4250-9b96-31df3eddee7c",
        "outputId": "939b111e-d592-4613-c560-2409fc5f40f6"
      },
      "outputs": [
        {
          "output_type": "execute_result",
          "data": {
            "text/plain": [
              "Text(0.5, 1.0, 'feature importance score')"
            ]
          },
          "metadata": {},
          "execution_count": 86
        },
        {
          "output_type": "display_data",
          "data": {
            "text/plain": [
              "<Figure size 720x576 with 1 Axes>"
            ],
            "image/png": "[encoded data removed]"
          },
          "metadata": {
            "needs_background": "light"
          }
        }
      ],
      "source": [
        "feat_importances = pd.Series(xg_tuned.best_estimator_.feature_importances_, index=X.columns)\n",
        "ax = feat_importances.nlargest(25).plot(kind='barh', figsize=(10, 8))\n",
        "ax.invert_yaxis()\n",
        "\n",
        "plt.xlabel('score')\n",
        "plt.ylabel('feature')\n",
        "plt.title('feature importance score')"
      ]
    },
    {
      "cell_type": "markdown",
      "id": "649c4bfd-56d4-416e-bad9-cd2a697086c2",
      "metadata": {
        "id": "649c4bfd-56d4-416e-bad9-cd2a697086c2"
      },
      "source": [
        "## RandomForest"
      ]
    },
    {
      "cell_type": "code",
      "execution_count": null,
      "id": "3910bc44-2b0d-49a0-9ac1-8bae96f59289",
      "metadata": {
        "id": "3910bc44-2b0d-49a0-9ac1-8bae96f59289"
      },
      "outputs": [],
      "source": [
        "from sklearn.ensemble import RandomForestClassifier\n",
        "rf = RandomForestClassifier(random_state=42)\n",
        "rf.fit(X_train,y_train)\n",
        "\n",
        "y_pred = rf.predict(X_test)\n"
      ]
    },
    {
      "cell_type": "markdown",
      "id": "24f51905-b5ac-4778-ad76-ac89ddeff8a1",
      "metadata": {
        "tags": [],
        "id": "24f51905-b5ac-4778-ad76-ac89ddeff8a1"
      },
      "source": [
        "### Evaluation"
      ]
    },
    {
      "cell_type": "code",
      "execution_count": null,
      "id": "35f7a2fe-91ba-4058-ac9a-d38287cfdb6a",
      "metadata": {
        "id": "35f7a2fe-91ba-4058-ac9a-d38287cfdb6a"
      },
      "outputs": [],
      "source": [
        "rf_recall=recall_score(y_test, y_pred)\n",
        "rf_acc=accuracy_score(y_test, y_pred)"
      ]
    },
    {
      "cell_type": "code",
      "execution_count": null,
      "id": "e6ae22a3-5c9c-47e1-a911-b72f977a18c8",
      "metadata": {
        "colab": {
          "base_uri": "https://localhost:8080/"
        },
        "id": "e6ae22a3-5c9c-47e1-a911-b72f977a18c8",
        "outputId": "84df0716-1d82-41ae-828a-955f001bc47f"
      },
      "outputs": [
        {
          "output_type": "stream",
          "name": "stdout",
          "text": [
            "Train score: 1.0\n",
            "Test score:0.8584292146073037\n"
          ]
        }
      ],
      "source": [
        "print('Train score: ' + str(rf.score(X_train, y_train))) #accuracy\n",
        "print('Test score:' + str(rf.score(X_test, y_test))) #accuracy"
      ]
    },
    {
      "cell_type": "code",
      "execution_count": null,
      "id": "8d6a85e1-a5b8-4af4-a39f-4205b365abb6",
      "metadata": {
        "ExecuteTime": {
          "end_time": "2021-03-21T02:47:16.155765Z",
          "start_time": "2021-03-21T02:47:16.126910Z"
        },
        "id": "8d6a85e1-a5b8-4af4-a39f-4205b365abb6",
        "outputId": "8ac15bfd-528d-4a68-d76f-53a2bb624b5f",
        "colab": {
          "base_uri": "https://localhost:8080/"
        }
      },
      "outputs": [
        {
          "output_type": "stream",
          "name": "stdout",
          "text": [
            "Recall: 0.56\n",
            "Accuracy: 0.86\n"
          ]
        }
      ],
      "source": [
        "print('Recall: %.2f'%rf_recall)\n",
        "print('Accuracy: %.2f'%rf_acc)\n"
      ]
    },
    {
      "cell_type": "code",
      "execution_count": null,
      "id": "607cd4a3-ccd0-4cca-824c-81e60dc34887",
      "metadata": {
        "id": "607cd4a3-ccd0-4cca-824c-81e60dc34887"
      },
      "outputs": [],
      "source": [
        "from sklearn.model_selection import RandomizedSearchCV, GridSearchCV\n",
        "\n",
        "#List Hyperparameters yang akan diuji\n",
        "hyperparameters = dict(\n",
        "                       n_estimators = [int(x) for x in np.linspace(start = 100, stop = 2000, num = 20)], # Jumlah subtree \n",
        "                       bootstrap = [True], # Apakah pakai bootstrapping atau tidak\n",
        "                       criterion = ['gini','entropy'],\n",
        "                       max_depth = [int(x) for x in np.linspace(10, 110, num = 11)],  # Maximum kedalaman tree\n",
        "                       min_samples_split = [int(x) for x in np.linspace(start = 2, stop = 10, num = 5)], # Jumlah minimum samples pada node agar boleh di split menjadi leaf baru\n",
        "                       min_samples_leaf = [int(x) for x in np.linspace(start = 1, stop = 10, num = 5)], # Jumlah minimum samples pada leaf agar boleh terbentuk leaf baru\n",
        "                       max_features = ['auto', 'sqrt', 'log2'], # Jumlah feature yg dipertimbangkan pada masing-masing split\n",
        "                       n_jobs = [-1], # Core untuk parallel computation. -1 untuk menggunakan semua core\n",
        "                      )\n",
        "\n",
        "# Init\n",
        "rf = RandomForestClassifier(random_state=42)\n",
        "rf_tuned = RandomizedSearchCV(rf, hyperparameters, cv=5, random_state=42, scoring='recall')\n",
        "rf_tuned.fit(X_train,y_train)\n",
        "\n",
        "# Predict & Evaluation\n",
        "y_pred = rf_tuned.predict(X_test)#Check performa dari model\n"
      ]
    },
    {
      "cell_type": "code",
      "execution_count": null,
      "id": "bddc93b5-73b4-43c5-a9b9-20b5161301b7",
      "metadata": {
        "colab": {
          "base_uri": "https://localhost:8080/"
        },
        "id": "bddc93b5-73b4-43c5-a9b9-20b5161301b7",
        "outputId": "f9feef88-1597-431d-e0bd-784801d9029a"
      },
      "outputs": [
        {
          "output_type": "stream",
          "name": "stdout",
          "text": [
            "Train score:  0.989937106918239\n",
            "Test score: 0.553030303030303\n"
          ]
        }
      ],
      "source": [
        "train_score_rf = rf_tuned.score(X_train, y_train)\n",
        "test_score_rf = rf_tuned.score(X_test, y_test)\n",
        "print('Train score: ', train_score_rf) #accuracy\n",
        "print('Test score:', test_score_rf) #accuracy"
      ]
    },
    {
      "cell_type": "code",
      "execution_count": null,
      "id": "c577963d-6958-4cce-9fff-2f23a1b84012",
      "metadata": {
        "id": "c577963d-6958-4cce-9fff-2f23a1b84012"
      },
      "outputs": [],
      "source": [
        "rf_recall=recall_score(y_test, y_pred)\n",
        "rf_acc=accuracy_score(y_test, y_pred)"
      ]
    },
    {
      "cell_type": "code",
      "execution_count": null,
      "id": "9c86f223-7e3d-4229-a1cb-527f16e4ead4",
      "metadata": {
        "ExecuteTime": {
          "end_time": "2021-03-21T02:47:16.155765Z",
          "start_time": "2021-03-21T02:47:16.126910Z"
        },
        "id": "9c86f223-7e3d-4229-a1cb-527f16e4ead4",
        "outputId": "48edb034-8069-4db8-f829-e35aab47f604",
        "colab": {
          "base_uri": "https://localhost:8080/"
        }
      },
      "outputs": [
        {
          "output_type": "stream",
          "name": "stdout",
          "text": [
            "Recall: 0.55\n",
            "Accuracy: 0.86\n"
          ]
        }
      ],
      "source": [
        "print('Recall: %.2f'%rf_recall)\n",
        "print('Accuracy: %.2f'%rf_acc)\n"
      ]
    },
    {
      "cell_type": "code",
      "execution_count": null,
      "id": "9685fa31-f88c-4f75-879f-827dd6c3bba4",
      "metadata": {
        "colab": {
          "base_uri": "https://localhost:8080/"
        },
        "id": "9685fa31-f88c-4f75-879f-827dd6c3bba4",
        "outputId": "2556d9e4-544c-4c37-b580-4881623bb367"
      },
      "outputs": [
        {
          "output_type": "stream",
          "name": "stdout",
          "text": [
            "Best n_estimators: 400\n",
            "Best bootstrap: True\n",
            "Best criterion: gini\n",
            "Best max_depth: 110\n",
            "Best min_samples_split: 4\n",
            "Best min_samples_leaf: 1\n",
            "Best max_features: log2\n",
            "Best n_jobs: -1\n"
          ]
        }
      ],
      "source": [
        "show_best_hyperparameter(rf_tuned.best_estimator_, hyperparameters)"
      ]
    },
    {
      "cell_type": "code",
      "execution_count": null,
      "id": "1c8a071b-5b42-4995-966d-7c3a9544e780",
      "metadata": {
        "colab": {
          "base_uri": "https://localhost:8080/",
          "height": 530
        },
        "id": "1c8a071b-5b42-4995-966d-7c3a9544e780",
        "outputId": "04592a62-17be-4afc-9b65-3ac13c979662"
      },
      "outputs": [
        {
          "output_type": "execute_result",
          "data": {
            "text/plain": [
              "Text(0.5, 1.0, 'feature importance score')"
            ]
          },
          "metadata": {},
          "execution_count": 96
        },
        {
          "output_type": "display_data",
          "data": {
            "text/plain": [
              "<Figure size 720x576 with 1 Axes>"
            ],
            "image/png": "[encoded data removed]"
          },
          "metadata": {
            "needs_background": "light"
          }
        }
      ],
      "source": [
        "feat_importances = pd.Series(rf_tuned.best_estimator_.feature_importances_, index=X.columns)\n",
        "ax = feat_importances.nlargest(25).plot(kind='barh', figsize=(10, 8))\n",
        "ax.invert_yaxis()\n",
        "\n",
        "plt.xlabel('score')\n",
        "plt.ylabel('feature')\n",
        "plt.title('feature importance score')"
      ]
    },
    {
      "cell_type": "markdown",
      "id": "efe32a17-0837-473d-9bcc-5e6367ebac86",
      "metadata": {
        "id": "efe32a17-0837-473d-9bcc-5e6367ebac86"
      },
      "source": [
        "## AdaBoost"
      ]
    },
    {
      "cell_type": "code",
      "execution_count": null,
      "id": "99546a49-b4d4-467d-8346-c1e02fdc3a16",
      "metadata": {
        "id": "99546a49-b4d4-467d-8346-c1e02fdc3a16"
      },
      "outputs": [],
      "source": [
        "\n",
        "ad = AdaBoostClassifier(random_state=42)\n",
        "ad.fit(X_train,y_train)\n",
        "\n",
        "y_pred = ad.predict(X_test)\n"
      ]
    },
    {
      "cell_type": "code",
      "execution_count": null,
      "id": "ced1d6e8-9a8d-430d-bd1d-2a560d204223",
      "metadata": {
        "id": "ced1d6e8-9a8d-430d-bd1d-2a560d204223"
      },
      "outputs": [],
      "source": [
        ""
      ]
    },
    {
      "cell_type": "markdown",
      "id": "aafb60e5-8ed0-4004-af6c-9f6b5e4192fc",
      "metadata": {
        "tags": [],
        "id": "aafb60e5-8ed0-4004-af6c-9f6b5e4192fc"
      },
      "source": [
        "### Evaluation"
      ]
    },
    {
      "cell_type": "code",
      "execution_count": null,
      "id": "b403e82f-a93f-4fbc-a639-98fc3400afed",
      "metadata": {
        "id": "b403e82f-a93f-4fbc-a639-98fc3400afed"
      },
      "outputs": [],
      "source": [
        "ad_recall=recall_score(y_test, y_pred)\n",
        "ad_acc=accuracy_score(y_test, y_pred)"
      ]
    },
    {
      "cell_type": "code",
      "execution_count": null,
      "id": "2fab4635-34cd-4c03-a05e-53a6ca716bd2",
      "metadata": {
        "ExecuteTime": {
          "end_time": "2021-03-21T02:47:16.155765Z",
          "start_time": "2021-03-21T02:47:16.126910Z"
        },
        "id": "2fab4635-34cd-4c03-a05e-53a6ca716bd2",
        "outputId": "2915c2dd-cfab-45e1-c5c0-6e0fca2614c7",
        "colab": {
          "base_uri": "https://localhost:8080/"
        }
      },
      "outputs": [
        {
          "output_type": "stream",
          "name": "stdout",
          "text": [
            "Recall: 0.59\n",
            "Accuracy: 0.83\n"
          ]
        }
      ],
      "source": [
        "print('Recall: %.2f'%ad_recall)\n",
        "print('Accuracy: %.2f'%ad_acc)\n"
      ]
    },
    {
      "cell_type": "code",
      "execution_count": null,
      "id": "412b86fc-1d9b-4d59-a725-8ccf84e51829",
      "metadata": {
        "colab": {
          "base_uri": "https://localhost:8080/"
        },
        "id": "412b86fc-1d9b-4d59-a725-8ccf84e51829",
        "outputId": "bb241f43-bebf-4fea-c787-d5878af6cc88"
      },
      "outputs": [
        {
          "output_type": "stream",
          "name": "stdout",
          "text": [
            "Train score: 0.819916142557652\n",
            "Test score:0.8334167083541771\n"
          ]
        }
      ],
      "source": [
        "print('Train score: ' + str(ad.score(X_train, y_train))) #accuracy\n",
        "print('Test score:' + str(ad.score(X_test, y_test))) #accuracy"
      ]
    },
    {
      "cell_type": "code",
      "execution_count": null,
      "id": "7e8549ed-c8ea-4df8-8fd7-580fac5a3703",
      "metadata": {
        "id": "7e8549ed-c8ea-4df8-8fd7-580fac5a3703"
      },
      "outputs": [],
      "source": [
        "\n",
        "\n",
        "# List of hyperparameter\n",
        "hyperparameters = dict(n_estimators = [int(x) for x in np.linspace(start = 100, stop = 2000, num = 20)], # Jumlah iterasi\n",
        "                       learning_rate = [float(x) for x in np.linspace(start = 0.001, stop = 0.1, num = 20)],  \n",
        "                       algorithm = ['SAMME', 'SAMME.R']\n",
        "                      )\n",
        "\n",
        "# Init model\n",
        "ab = AdaBoostClassifier(random_state=42)\n",
        "ab_tuned = RandomizedSearchCV(ab, hyperparameters, random_state=42, cv=5, scoring='recall')\n",
        "ab_tuned.fit(X_train,y_train)\n",
        "\n",
        "# Predict & Evaluation\n",
        "y_pred = ab_tuned.predict(X_test)#Check performa dari model\n"
      ]
    },
    {
      "cell_type": "markdown",
      "id": "efb12713-1110-44d8-af79-2292774b2840",
      "metadata": {
        "tags": [],
        "id": "efb12713-1110-44d8-af79-2292774b2840"
      },
      "source": [
        "### Evaluation"
      ]
    },
    {
      "cell_type": "code",
      "execution_count": null,
      "id": "e983f0dd-c44c-4b55-b363-7d13d4ddf28f",
      "metadata": {
        "id": "e983f0dd-c44c-4b55-b363-7d13d4ddf28f"
      },
      "outputs": [],
      "source": [
        "ad_recall=recall_score(y_test, y_pred)\n",
        "ad_acc=accuracy_score(y_test, y_pred)"
      ]
    },
    {
      "cell_type": "code",
      "execution_count": null,
      "id": "a7ee7a8b-c4fa-4385-b0a9-92c1e9d92cc9",
      "metadata": {
        "ExecuteTime": {
          "end_time": "2021-03-21T02:47:16.155765Z",
          "start_time": "2021-03-21T02:47:16.126910Z"
        },
        "id": "a7ee7a8b-c4fa-4385-b0a9-92c1e9d92cc9",
        "outputId": "adddeb03-4a9b-4bb5-e82f-55ca18418a1a",
        "colab": {
          "base_uri": "https://localhost:8080/"
        }
      },
      "outputs": [
        {
          "output_type": "stream",
          "name": "stdout",
          "text": [
            "Recall: 0.57\n",
            "Accuracy: 0.84\n"
          ]
        }
      ],
      "source": [
        "print('Recall: %.2f'%ad_recall)\n",
        "print('Accuracy: %.2f'%ad_acc)\n"
      ]
    },
    {
      "cell_type": "code",
      "execution_count": null,
      "id": "051ef54a-dd67-42d8-9520-cf3bc89df64d",
      "metadata": {
        "colab": {
          "base_uri": "https://localhost:8080/"
        },
        "id": "051ef54a-dd67-42d8-9520-cf3bc89df64d",
        "outputId": "8f81a663-398d-4772-e823-1cc89c8af37b"
      },
      "outputs": [
        {
          "output_type": "stream",
          "name": "stdout",
          "text": [
            "Train score: 0.5681818181818182\n",
            "Test score: 0.670440251572327\n"
          ]
        }
      ],
      "source": [
        "train_score_adboost = ab_tuned.score(X_test, y_test)\n",
        "test_score_adboost = ab_tuned.score(X_train, y_train)\n",
        "print('Train score:', train_score_adboost) #accuracy\n",
        "print('Test score:', test_score_adboost) #accuracy"
      ]
    },
    {
      "cell_type": "code",
      "execution_count": null,
      "id": "0e3f408b-721e-49be-9afe-da11be478bb5",
      "metadata": {
        "id": "0e3f408b-721e-49be-9afe-da11be478bb5",
        "colab": {
          "base_uri": "https://localhost:8080/"
        },
        "outputId": "ee6bda51-09cc-4abf-d727-394276a0a927"
      },
      "outputs": [
        {
          "output_type": "stream",
          "name": "stdout",
          "text": [
            "Best n_estimators: 1700\n",
            "Best learning_rate: 0.07394736842105264\n",
            "Best algorithm: SAMME.R\n"
          ]
        }
      ],
      "source": [
        "show_best_hyperparameter(ab_tuned.best_estimator_, hyperparameters)"
      ]
    },
    {
      "cell_type": "code",
      "execution_count": null,
      "id": "95e78fc8-bcc8-46ad-a6d1-53bcb41e464f",
      "metadata": {
        "id": "95e78fc8-bcc8-46ad-a6d1-53bcb41e464f",
        "colab": {
          "base_uri": "https://localhost:8080/",
          "height": 530
        },
        "outputId": "d1bdb986-91bc-4058-9283-7e1c7d111e33"
      },
      "outputs": [
        {
          "output_type": "execute_result",
          "data": {
            "text/plain": [
              "Text(0.5, 1.0, 'feature importance score')"
            ]
          },
          "metadata": {},
          "execution_count": 106
        },
        {
          "output_type": "display_data",
          "data": {
            "text/plain": [
              "<Figure size 720x576 with 1 Axes>"
            ],
            "image/png": "[encoded data removed]"
          },
          "metadata": {
            "needs_background": "light"
          }
        }
      ],
      "source": [
        "feat_importances = pd.Series(ab_tuned.best_estimator_.feature_importances_, index=X.columns)\n",
        "ax = feat_importances.nlargest(25).plot(kind='barh', figsize=(10, 8))\n",
        "ax.invert_yaxis()\n",
        "\n",
        "plt.xlabel('score')\n",
        "plt.ylabel('feature')\n",
        "plt.title('feature importance score')"
      ]
    },
    {
      "cell_type": "code",
      "execution_count": null,
      "id": "8a56941b-e99e-4b5c-abb0-bda4c4cfe305",
      "metadata": {
        "id": "8a56941b-e99e-4b5c-abb0-bda4c4cfe305",
        "colab": {
          "base_uri": "https://localhost:8080/",
          "height": 206
        },
        "outputId": "5f041334-7b38-4cd0-8a4a-b89c56da7a52"
      },
      "outputs": [
        {
          "output_type": "execute_result",
          "data": {
            "text/plain": [
              "                     accuracy    recall  train_score  test_score\n",
              "Logistic Regression  0.800900  0.419192     0.477987    0.419192\n",
              "Decision Tree        0.731866  0.560606     1.000000    0.560606\n",
              "XGBoost              0.815408  0.631313     0.966038    0.631313\n",
              "Random Forest        0.859930  0.553030     0.989937    0.553030\n",
              "AdaBoost             0.844922  0.568182     0.568182    0.670440"
            ],
            "text/html": [
              "<div>\n",
              "<style scoped>\n",
              "    .dataframe tbody tr th:only-of-type {\n",
              "        vertical-align: middle;\n",
              "    }\n",
              "\n",
              "    .dataframe tbody tr th {\n",
              "        vertical-align: top;\n",
              "    }\n",
              "\n",
              "    .dataframe thead th {\n",
              "        text-align: right;\n",
              "    }\n",
              "</style>\n",
              "<table border=\"1\" class=\"dataframe\">\n",
              "  <thead>\n",
              "    <tr style=\"text-align: right;\">\n",
              "      <th></th>\n",
              "      <th>accuracy</th>\n",
              "      <th>recall</th>\n",
              "      <th>train_score</th>\n",
              "      <th>test_score</th>\n",
              "    </tr>\n",
              "  </thead>\n",
              "  <tbody>\n",
              "    <tr>\n",
              "      <th>Logistic Regression</th>\n",
              "      <td>0.800900</td>\n",
              "      <td>0.419192</td>\n",
              "      <td>0.477987</td>\n",
              "      <td>0.419192</td>\n",
              "    </tr>\n",
              "    <tr>\n",
              "      <th>Decision Tree</th>\n",
              "      <td>0.731866</td>\n",
              "      <td>0.560606</td>\n",
              "      <td>1.000000</td>\n",
              "      <td>0.560606</td>\n",
              "    </tr>\n",
              "    <tr>\n",
              "      <th>XGBoost</th>\n",
              "      <td>0.815408</td>\n",
              "      <td>0.631313</td>\n",
              "      <td>0.966038</td>\n",
              "      <td>0.631313</td>\n",
              "    </tr>\n",
              "    <tr>\n",
              "      <th>Random Forest</th>\n",
              "      <td>0.859930</td>\n",
              "      <td>0.553030</td>\n",
              "      <td>0.989937</td>\n",
              "      <td>0.553030</td>\n",
              "    </tr>\n",
              "    <tr>\n",
              "      <th>AdaBoost</th>\n",
              "      <td>0.844922</td>\n",
              "      <td>0.568182</td>\n",
              "      <td>0.568182</td>\n",
              "      <td>0.670440</td>\n",
              "    </tr>\n",
              "  </tbody>\n",
              "</table>\n",
              "</div>"
            ]
          },
          "metadata": {},
          "execution_count": 107
        }
      ],
      "source": [
        "models = ['Logistic Regression', 'Decision Tree','XGBoost', 'Random Forest','AdaBoost']\n",
        "accuracy = [lr_acc, dt_acc, xg_acc, rf_acc, ad_acc]\n",
        "recall = [lr_recall, dt_recall, xg_recall, rf_recall,ad_recall]\n",
        "train_score = [train_score_lr, train_score_dt, train_score_xgboost, train_score_rf, train_score_adboost]\n",
        "test_score = [test_score_lr, test_score_dt, test_score_xgboost, test_score_rf, test_score_adboost]\n",
        "\n",
        "d = {'accuracy': accuracy, 'recall': recall, 'train_score': train_score, 'test_score': test_score}\n",
        "df_metrics = pd.DataFrame(d, index = models)\n",
        "df_metrics"
      ]
    },
    {
      "cell_type": "markdown",
      "id": "db8fd087-8d11-402c-895b-93d3f44ccada",
      "metadata": {
        "id": "db8fd087-8d11-402c-895b-93d3f44ccada"
      },
      "source": [
        "### Confusion Matrix"
      ]
    },
    {
      "cell_type": "code",
      "execution_count": null,
      "id": "9a1c1594-b798-485a-b924-6d7906603049",
      "metadata": {
        "id": "9a1c1594-b798-485a-b924-6d7906603049",
        "colab": {
          "base_uri": "https://localhost:8080/"
        },
        "outputId": "3c630e2c-5e67-4f56-9973-7f40843c4583"
      },
      "outputs": [
        {
          "output_type": "stream",
          "name": "stdout",
          "text": [
            "[[1464  139]\n",
            " [ 171  225]]\n"
          ]
        }
      ],
      "source": [
        "from sklearn.metrics import confusion_matrix\n",
        "\n",
        "#Generate the confusion matrix\n",
        "cf_matrix = confusion_matrix(y_test, y_pred)\n",
        "print(cf_matrix)"
      ]
    },
    {
      "cell_type": "code",
      "execution_count": null,
      "id": "3b9873f4-6e00-400c-a536-6276fd42d0ff",
      "metadata": {
        "id": "3b9873f4-6e00-400c-a536-6276fd42d0ff",
        "colab": {
          "base_uri": "https://localhost:8080/",
          "height": 337
        },
        "outputId": "a5382903-883a-4c17-b535-3a83db72d7a1"
      },
      "outputs": [
        {
          "output_type": "display_data",
          "data": {
            "text/plain": [
              "<Figure size 864x288 with 2 Axes>"
            ],
            "image/png": "[encoded data removed]"
          },
          "metadata": {
            "needs_background": "light"
          }
        }
      ],
      "source": [
        "group_names = ['True Neg','False Pos','False Neg','True Pos']\n",
        "\n",
        "group_counts = [\"{0:0.0f}\".format(value) for value in\n",
        "                cf_matrix.flatten()]\n",
        "\n",
        "group_percentages = [\"{0:.2%}\".format(value) for value in\n",
        "                     cf_matrix.flatten()/np.sum(cf_matrix)]\n",
        "\n",
        "labels = [f\"{v1}\\n{v2}\\n{v3}\" for v1, v2, v3 in\n",
        "          zip(group_names,group_counts,group_percentages)]\n",
        "\n",
        "labels = np.asarray(labels).reshape(2,2)\n",
        "\n",
        "ax = sns.heatmap(cf_matrix, annot=labels, fmt='', cmap='Blues')\n",
        "\n",
        "ax.set_title('Confusion Matrix \\n\\n');\n",
        "ax.set_xlabel('\\nPredicted Values')\n",
        "ax.set_ylabel('Actual Values ');\n",
        "\n",
        "## Ticket labels - List must be in alphabetical order\n",
        "ax.xaxis.set_ticklabels(['False','True'])\n",
        "ax.yaxis.set_ticklabels(['False','True'])\n",
        "\n",
        "## Display the visualization of the Confusion Matrix.\n",
        "plt.show()"
      ]
    },
    {
      "cell_type": "code",
      "execution_count": null,
      "id": "35aab1d1-95ce-4aed-b513-9202c8bf2331",
      "metadata": {
        "id": "35aab1d1-95ce-4aed-b513-9202c8bf2331"
      },
      "outputs": [],
      "source": [
        ""
      ]
    }
  ],
  "metadata": {
    "kernelspec": {
      "display_name": "Python 3 (ipykernel)",
      "language": "python",
      "name": "python3"
    },
    "language_info": {
      "codemirror_mode": {
        "name": "ipython",
        "version": 3
      },
      "file_extension": ".py",
      "mimetype": "text/x-python",
      "name": "python",
      "nbconvert_exporter": "python",
      "pygments_lexer": "ipython3",
      "version": "3.8.12"
    },
    "colab": {
      "name": "Modelling.ipynb",
      "provenance": [],
      "collapsed_sections": [
        "8a8a4f4d-7cd9-4488-9ce5-9fd5a359f2f9",
        "f8af1e98-5f9d-48cd-8b36-4e5aa6bd0929"
      ],
      "toc_visible": true
    }
  },
  "nbformat": 4,
  "nbformat_minor": 5
}